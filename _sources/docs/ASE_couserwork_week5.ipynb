{
 "cells": [
  {
   "cell_type": "markdown",
   "metadata": {},
   "source": [
    "# Week 5: Discrete Random Variables"
   ]
  },
  {
   "attachments": {},
   "cell_type": "markdown",
   "metadata": {},
   "source": [
    "## Discrete Random Variables\n",
    "This week you'll learn what are random variables and the properties of discrete random variables.\n",
    "\n",
    "\n",
    "\n",
    "### Reminder\n",
    "Notations: \n",
    "\n",
    "- Factorial: \n",
    "    - $n! = n \\times (n-1) \\times (n-2) \\times \\cdots \\times 3 \\times 2 \\times 1$\n",
    "    - 0! = 1\n",
    "\n",
    "- Combination: The number of ways to choose $r$ elements from a set of $n$ elements.\n",
    "    - $^nC_k = \\binom{n}{r} =  \\frac{n!}{k!(n-k)!}$\n",
    "        \n",
    "\n",
    "\n",
    "-   Discrete random variables: take values in finite or countable set \n",
    "\n",
    "- Random variable examples\n",
    "    - Bernouli:\n",
    "\n",
    "        A single success/failure experiment\n",
    "    - Binomial:\n",
    "\n",
    "        The number of successes in a sequence of n independent experiments, each asking a yes–no question\n",
    "    - Uniform:\n",
    "\n",
    "        Probability distributions with equally likely outcomes\n",
    "    - Geometric:\n",
    "\n",
    "        The number of successive failures before a success is obtained in a Bernoulli trial\n",
    "\n",
    "\n",
    "### Random variables: Formalism\n",
    "- A random variable ('r.v.') associates a value (a number) to every possible outcome\n",
    "- Mathematically: A function from the sample space $\\Omega$ to the real numbers\n",
    "- It can take discrete or continous values\n",
    "\n",
    "`````{admonition} Notation:\n",
    ":class: tip\n",
    "- random variable: $X$\n",
    "- numerical value: $x$\n",
    "`````\n",
    "\n",
    "- We can have several random variables defined on the same sample space\n",
    "- A function of one or several random variables is also a random variable \n",
    "    - if X and Y are r.v., then (X+Y) is also a r.v. \n",
    "\n",
    "### Probability mass function (PMF) of a discrete r.v. $X$\n",
    "-   it is the \"probability law\" or \"probability distribution\" of $X$\n",
    "-   if we fix some $x$ then \"$X = x$\" is an event\n",
    "\n",
    "`````{admonition} Notation:\n",
    ":class: tip\n",
    "$P_X(x) = P(X=x) = P(\\{\\omega \\in \\Omega \\quad s.t. \\quad X(\\omega)=x\\})$\n",
    "`````\n"
   ]
  },
  {
   "cell_type": "markdown",
   "metadata": {},
   "source": []
  },
  {
   "attachments": {},
   "cell_type": "markdown",
   "metadata": {},
   "source": [
    "**Q12.** \n",
    "\n",
    "**In 1968, an accountant named Charles Reep published an article in the journal of the Royal Statistical Society. After analysing more than 2200 football matches he concluded that 80 percent of goals were scored from plays of fewer than four passes. He claimed that three passes -a long ball, knockdown and strike - was the path for success. Taken from the book \"Game changers\" by Joao Medeiros.**\n",
    "\n",
    "**Suppose that in a typical football match there are on average 900 plays. Out of those, only 100 have 4 or more passes. there are 5 goals per match**"
   ]
  },
  {
   "attachments": {},
   "cell_type": "markdown",
   "metadata": {},
   "source": [
    "`````{topic} (a) Complete the blank cells in the following table given the information above. Number of plays in a typical football match, G=ending in goal, NG=not ending in goal.\n",
    "\n",
    "\n",
    "$$\\begin{aligned}[]\n",
    "\\begin{array}{|l|l|l|l|}\n",
    "\\hline\n",
    "                       & G & NG  & Total \\\\ \\hline\n",
    "< 4            & 4 & 796 & 800   \\\\ \\hline\n",
    "\\geq  4 & 1 & 99  & 100   \\\\ \\hline\n",
    "Total                  & 5 & 895 & 900   \\\\ \\hline\n",
    "\\end{array}\n",
    "\\end{aligned}$$\n",
    "``````"
   ]
  },
  {
   "attachments": {},
   "cell_type": "markdown",
   "metadata": {},
   "source": [
    "`````{topic} b) What is the probabilty of scoring a goal, conditional on a play with less than 4 passes: P(G| < 4)?\n",
    "$$\n",
    "    P(G|<4) = \\frac{P(G \\cap < 4)}{P(<4)} = \\frac{4}{800} = 0.005\n",
    "$$\n",
    "\n",
    "``````"
   ]
  },
  {
   "attachments": {},
   "cell_type": "markdown",
   "metadata": {},
   "source": [
    "`````{topic} c) What is the probabilty of scoring a goal, conditional on a play with less than 4 passes: P(G| >= 4)?\n",
    "\n",
    "$$\n",
    "    P(G|\\geq 4) = \\frac{P(G \\cap \\geq 4)}{P(\\geq 4)} = \\frac{1}{100} = 0.01\n",
    "$$\n",
    "\n",
    "``````"
   ]
  },
  {
   "attachments": {},
   "cell_type": "markdown",
   "metadata": {},
   "source": [
    "`````{topic} d) From the definition of conditional probability shown in algebra and with the numbers above that\n",
    "$$\n",
    "    {P(A \\cap B)}= P(B|A)P(A) = P(A|B)P(B)\n",
    "$$\n",
    "\n",
    "$$\n",
    "    P(G|<4) = \\frac{P(<4 | G)P(G)}{P(<4)} = \\frac{\\frac{4}{5} \\times \\frac{5}{900}}{\\frac{800}{900}} = \\frac{4}{800}\n",
    "$$\n",
    "``````"
   ]
  },
  {
   "attachments": {},
   "cell_type": "markdown",
   "metadata": {},
   "source": [
    "`````{topic} e) Reep's conclusion, that three passes was the path for success, was mistaken. Explain the mistake in his analysis.\n",
    "\n",
    "Reep was wrong in not applying Bayes' rule to get conditional probabilities\n",
    "``````"
   ]
  },
  {
   "attachments": {},
   "cell_type": "markdown",
   "metadata": {},
   "source": [
    "### PMF calculation\n",
    "\n",
    "#### Binomial experiment from last week;\n",
    "- Experiment: n independent tosses of a coin with $P(Heads)=p$\n",
    "- Sample space: Set of sequences of H and T, of length n\n",
    "- Random variable $X$: number of heads observed\n",
    "- Model of: number of successes in a given number of independent trials\n",
    "\n",
    "![treepmf](../coin_pmf.png)\n",
    "\n",
    "$p_X(k) = ^nC_k \\times p^k(1-p)^{(n-k)}, \\quad for \\quad k=0,1, \\cdot ,n$\n",
    "\n",
    "$\\Omega = \\{0,1,2,3\\}$\n",
    "\n",
    "\n",
    "$$\\begin{align}\n",
    "p_X(0)& =p(X=0) \\\\\n",
    "  & = P(TTT) \\\\\n",
    "  & =(1-p)^3 = C^0_3 *(1-p)^3= 1\\times \\frac{1}{8} \\\\\n",
    "\\end{align}$$\n",
    "\n",
    "\n",
    "$$\\begin{align}\n",
    "p_X(1)& =p(X=1) \\\\\n",
    "  & =P(HTT) + P(THT) + P(TTH) \\\\\n",
    "  & =3p(1-p)^2 = C^1_3 *p*(1-p)^2= 3\\times \\frac{1}{8} \\\\\n",
    "\\end{align}$$\n",
    "\n",
    "$$\\begin{align}\n",
    "p_X(2)& =p(X=2) \\\\\n",
    "  & =P(HHT) + P(HTH) + P(THH) \\\\\n",
    "  & =3p(1-p)^2 = C^1_3 *p*(1-p)^2= 3\\times \\frac{1}{8} \\\\\n",
    "\\end{align}$$\n",
    "\n",
    "$$\\begin{align}\n",
    "p_X(3)& =p(X=3) \\\\\n",
    "  & = P(HHH) \\\\\n",
    "  & =(p)^3 = C^3_3 *(p)^3= 1\\times \\frac{1}{8} \\\\\n",
    "\\end{align}$$\n",
    "\n",
    "![mpv](../pmf_cdf.png)\n",
    "\n",
    "#### Experiment from textbook;\n",
    "- Two rolls of a hexahedral die\n",
    "    - $z = X+Y \\quad find \\quad P_Z(z)$\n",
    "- Let every possible outcome have probability $\\frac{1}{36}$\n",
    "    - Repeat for all $z$:\n",
    "        - Collect all possible outcomes for which $Z$ is equal to $z$\n",
    "        - add their probabilities\n",
    "\n",
    "$$\\begin{aligned}[]\n",
    "\\begin{array}{|l|l|l|l|l|l|l|}\n",
    "\\hline\n",
    "6 &   &   &   &   &   &   \\\\ \\hline\n",
    "5 &   &   &   &   &   &   \\\\ \\hline\n",
    "4 &   &   &   &   &   &   \\\\ \\hline\n",
    "3 &   &   &   &   &   &   \\\\ \\hline\n",
    "2 &   &   &   &   &   &   \\\\ \\hline\n",
    "1 &   &   &   &   &   &   \\\\ \\hline\n",
    "  & 1 & 2 & 3 & 4 & 5 & 6 \\\\ \\hline\n",
    "\\end{array}\n",
    "\\end{aligned}$$\n",
    "\n",
    "Fill this table and construct the PMF\n",
    "\n"
   ]
  },
  {
   "attachments": {},
   "cell_type": "markdown",
   "metadata": {},
   "source": [
    "**Q13.** \n",
    "\n",
    "**If a RV follows a binomial distribution with probability of success p on a particular trial, then the probability of getting k successes in n trials is given by**\n",
    "\n",
    "$$\n",
    "    f(k) = ^nC_k \\times p^k(1-p)^{(n-k)}\n",
    "$$\n",
    "\n",
    "`````{topic} a) Suppose that you toss a fair coin 5 times. Give the probability of getting, 0,1,2,3,4,5 heads\n",
    "The coin is said to be fair so \n",
    "\n",
    "$p = 1-p = 0.5$\n",
    "\n",
    "and so:\n",
    "\n",
    " $p^k(1-p)^{(n-k)} = \\frac{1}{2}^5 \\quad$  $\\forall \\quad k \\in {0,1,2,3,4,5}$ \n",
    "\n",
    "\n",
    "| $k$ | $\\frac{n!}{k!(n-k)!}$                         | =  | $f(k)$          |\n",
    "|---|---------------------------------------------|----|---------------|\n",
    "| 0 | $\\frac{5!}{5!}$                               | 1  | $\\frac{1}{32}=0.03125$  |\n",
    "| 1 | $\\frac{5 \\times 4 \\times 3 \\times 2 \\times 1}{1 \\times 4 \\times 3 \\times 2 \\times 1}$ | 5  | $\\frac{5}{32}=0.15625$  |\n",
    "| 2 | $\\frac{5 \\times 4 \\times 3 \\times 2 \\times 1}{2 \\times 1 \\times 3 \\times 2 \\times 1}$ | 10 | $\\frac{10}{32}=0.3125$ |\n",
    "| 3 | $\\frac{5 \\times 4 \\times 3 \\times 2 \\times 1}{3 \\times 2 \\times 1 \\times 2 \\times 1}$ | 10 | $\\frac{10}{32}=0.3125$ |\n",
    "| 4 | $\\frac{5 \\times 4 \\times 3 \\times 2 \\times 1}{4 \\times 3 \\times 2 \\times 1 \\times 1}$ | 5  | $\\frac{5}{32}=0.15625$  |\n",
    "| 5 | $\\frac{5!}{5!}$                               | 1  | $\\frac{1}{32}=0.03125$  |\n",
    "\n",
    "\n",
    "``````"
   ]
  },
  {
   "cell_type": "markdown",
   "metadata": {},
   "source": [
    "`````{topic} (b) Calculate the expected value and variance for the number of heads. Show that these are $np$ and $np(1-p)$\n",
    "- Expectation: The expected value of a random variable X is defined as\n",
    "\n",
    "$$\n",
    "    E(X) = \\sum_{i=1}^n p(x_i)x_i\n",
    "$$\n",
    "\n",
    "    - it is a weighted average\n",
    "\n",
    "- Variance: The variance is defined as:\n",
    "\n",
    "$$\n",
    "    Var = \\sum_{i=1}^n p(x_i)[x_i - E(X)]^2\n",
    "$$\n",
    "    - it is also a weighted average\n",
    "\n",
    "| $x_i$       | $p(x_i)$    | $m=p(x_i) \\times x_i$ | $p(x_i) \\times (x_i-m)^2$ |\n",
    "|---------|---------|----------|--------------|\n",
    "| 0       | 0.03125 | 0.00     | 0.20         |\n",
    "| 1       | 0.15625 | 0.16     | 0.35         |\n",
    "| 2       | 0.31250 | 0.63     | 0.08         |\n",
    "| 3       | 0.31250 | 0.94     | 0.08         |\n",
    "| 4       | 0.15625 | 0.63     | 0.35         |\n",
    "| 5       | 0.03125 | 0.16     | 0.20         |\n",
    "|  | Sum up:        | 2.50=5*$\\frac{1}{2}$ = np    | 1.25=5*$\\frac{1}{2}^2$ = np(1-p)         |\n",
    "|         |         | Mean     | Variance     |\n",
    "\n",
    "``````"
   ]
  },
  {
   "attachments": {},
   "cell_type": "markdown",
   "metadata": {},
   "source": [
    "### PMF calculation\n",
    "\n",
    "#### Binomial experiment from last week;\n",
    "- Experiment: n independent tosses of a coin with $P(Heads)=p$\n",
    "- Sample space: Set of sequences of H and T, of length n\n",
    "- Random variable $X$: number of heads observed\n",
    "- Model of: number of successes in a given number of independent trials\n",
    "\n",
    "![treepmf](../coin_pmf.png)\n",
    "\n",
    "$p_X(k) = ^nC_k \\times p^k(1-p)^{(n-k)}, \\quad for \\quad k=0,1, \\cdot ,n$\n",
    "\n",
    "$\\Omega = \\{0,1,2,3\\}$\n",
    "\n",
    "\n",
    "$$\\begin{align}\n",
    "p_X(0)& =p(X=0) \\\\\n",
    "  & = P(TTT) \\\\\n",
    "  & =(1-p)^3 = C^0_3 *(1-p)^3= 1\\times \\frac{1}{8} \\\\\n",
    "\\end{align}$$\n",
    "\n",
    "\n",
    "$$\\begin{align}\n",
    "p_X(1)& =p(X=1) \\\\\n",
    "  & =P(HTT) + P(THT) + P(TTH) \\\\\n",
    "  & =3p(1-p)^2 = C^1_3 *p*(1-p)^2= 3\\times \\frac{1}{8} \\\\\n",
    "\\end{align}$$\n",
    "\n",
    "$$\\begin{align}\n",
    "p_X(2)& =p(X=2) \\\\\n",
    "  & =P(HHT) + P(HTH) + P(THH) \\\\\n",
    "  & =3p(1-p)^2 = C^1_3 *p*(1-p)^2= 3\\times \\frac{1}{8} \\\\\n",
    "\\end{align}$$\n",
    "\n",
    "$$\\begin{align}\n",
    "p_X(3)& =p(X=3) \\\\\n",
    "  & = P(HHH) \\\\\n",
    "  & =(p)^3 = C^3_3 *(p)^3= 1\\times \\frac{1}{8} \\\\\n",
    "\\end{align}$$\n",
    "\n",
    "![mpv](../pmf_cdf.png)\n",
    "\n",
    "#### Experiment from textbook;\n",
    "- Two rolls of a hexahedral die\n",
    "    - $z = X+Y \\quad find \\quad P_Z(z)$\n",
    "- Let every possible outcome have probability $\\frac{1}{36}$\n",
    "    - Repeat for all $z$:\n",
    "        - Collect all possible outcomes for which $Z$ is equal to $z$\n",
    "        - add their probabilities\n",
    "\n",
    "$$\\begin{aligned}[]\n",
    "\\begin{array}{|l|l|l|l|l|l|l|}\n",
    "\\hline\n",
    "6 &   &   &   &   &   &   \\\\ \\hline\n",
    "5 &   &   &   &   &   &   \\\\ \\hline\n",
    "4 &   &   &   &   &   &   \\\\ \\hline\n",
    "3 &   &   &   &   &   &   \\\\ \\hline\n",
    "2 &   &   &   &   &   &   \\\\ \\hline\n",
    "1 &   &   &   &   &   &   \\\\ \\hline\n",
    "  & 1 & 2 & 3 & 4 & 5 & 6 \\\\ \\hline\n",
    "\\end{array}\n",
    "\\end{aligned}$$\n",
    "\n",
    "Fill this table and construct the PMF\n",
    "\n"
   ]
  },
  {
   "attachments": {},
   "cell_type": "markdown",
   "metadata": {},
   "source": [
    "**Q14.** \n",
    "\n",
    "**In Excel type: =RAND() into cell Al. This will give you will get a uniformly distributed random number over zero-one. Copy this to Bl:O1; In cell Pl type =AVERAGE(Al:O1). In Cell Ql type =STDEV.S(Al:O1). In Cell Rl type =STDEV.P(Al:O1). Copy the line Al:Rl to lines 2:50. You now have 50 samples of 15 random numbers plus estimates of the mean and sample and population standard deviations. In cell P51, type =AVERAGE(Pl:P50). In cell Q51 type =AVERAGE(Ql:Q50) In cell R51 type =AVERAGE(Rl:R50) . In cell P52 type =STDEV.S(Pl:P50).**\n"
   ]
  },
  {
   "cell_type": "code",
   "execution_count": 1,
   "metadata": {},
   "outputs": [],
   "source": [
    "import numpy as np\n",
    "import matplotlib.pyplot as plt\n",
    "from scipy.stats import norm\n",
    "\n",
    "# Define the dimensions of the matrix\n",
    "rows = 15\n",
    "columns = 50\n",
    "\n",
    "# Generate the random matrix\n",
    "random_matrix = np.random.rand(rows, columns)\n",
    "\n",
    "# Print the random matrix\n",
    "# print(random_matrix)\n"
   ]
  },
  {
   "cell_type": "code",
   "execution_count": 3,
   "metadata": {},
   "outputs": [
    {
     "name": "stdout",
     "output_type": "stream",
     "text": [
      "Mean: 0.49490131691101213\n",
      "Sample standard deviation: 0.27597896816216533\n",
      "Population standard deviation: 0.2757949208138111\n"
     ]
    }
   ],
   "source": [
    "# Calculate the mean\n",
    "mean = np.mean(random_matrix)\n",
    "\n",
    "# Calculate the sample variance\n",
    "sample_variance = np.std(random_matrix, ddof=1)\n",
    "\n",
    "# Calculate the population variance\n",
    "population_variance = np.std(random_matrix)\n",
    "\n",
    "print(\"Mean:\", mean)\n",
    "print(\"Sample standard deviation:\", sample_variance)\n",
    "print(\"Population standard deviation:\", population_variance)"
   ]
  },
  {
   "cell_type": "code",
   "execution_count": 3,
   "metadata": {},
   "outputs": [
    {
     "data": {
      "image/png": "[encoded data removed]",
      "text/plain": [
       "<Figure size 432x288 with 1 Axes>"
      ]
     },
     "metadata": {
      "needs_background": "light"
     },
     "output_type": "display_data"
    }
   ],
   "source": [
    "# Flatten the matrix to a 1D array\n",
    "data = random_matrix.flatten()\n",
    "\n",
    "# Create a histogram\n",
    "plt.hist(data, bins=10, density=True, alpha=0.5, color='b', label='Histogram')\n",
    "\n",
    "# Fit a normal distribution to the data\n",
    "mu, std = norm.fit(data)\n",
    "\n",
    "# Plot the PDF of the fitted normal distribution\n",
    "xmin, xmax = min(data), max(data)\n",
    "x = np.linspace(xmin, xmax, 100)\n",
    "p = norm.pdf(x, mu, std)\n",
    "plt.plot(x, p, 'k', linewidth=2, label='Fitted Normal Distribution')\n",
    "\n",
    "plt.title(\"Histogram and Fitted Normal Distribution\")\n",
    "plt.xlabel(\"Value\")\n",
    "plt.ylabel(\"Frequency\")\n",
    "plt.legend()\n",
    "plt.show()"
   ]
  },
  {
   "cell_type": "code",
   "execution_count": 2,
   "metadata": {},
   "outputs": [
    {
     "data": {
      "image/png": "[encoded data removed]",
      "text/plain": [
       "<Figure size 432x288 with 1 Axes>"
      ]
     },
     "metadata": {
      "needs_background": "light"
     },
     "output_type": "display_data"
    }
   ],
   "source": [
    "# Compute the means for each rows\n",
    "row_means = np.mean(random_matrix, axis=0)\n",
    "\n",
    "# Create a histogram of the row means\n",
    "plt.hist(row_means, bins=10, density=True, alpha=0.5, color='b', label='Row Means')\n",
    "\n",
    "# Fit a normal distribution to the row means\n",
    "mu, std = norm.fit(row_means)\n",
    "\n",
    "# Plot the PDF of the fitted normal distribution\n",
    "xmin, xmax = min(row_means), max(row_means)\n",
    "x = np.linspace(xmin, xmax, 100)\n",
    "p = norm.pdf(x, mu, std)\n",
    "plt.plot(x, p, 'k', linewidth=2, label='Fitted Normal Distribution')\n",
    "\n",
    "plt.title(\"Histogram of Row Means and Fitted Normal Distribution\")\n",
    "plt.xlabel(\"Mean of Rows\")\n",
    "plt.ylabel(\"Frequency\")\n",
    "plt.legend()\n",
    "plt.show()\n"
   ]
  },
  {
   "cell_type": "code",
   "execution_count": 27,
   "metadata": {},
   "outputs": [
    {
     "data": {
      "image/png": "[encoded data removed]",
      "text/plain": [
       "<Figure size 432x288 with 1 Axes>"
      ]
     },
     "metadata": {
      "needs_background": "light"
     },
     "output_type": "display_data"
    }
   ],
   "source": [
    "import numpy as np\n",
    "import matplotlib.pyplot as plt\n",
    "from scipy.stats import norm\n",
    "\n",
    "# Generate random data from a normal distribution\n",
    "mean = 0\n",
    "std_dev = 1\n",
    "data = np.random.normal(mean, std_dev, size=(15, 50))\n",
    "\n",
    "# Flatten the data to a 1D array\n",
    "data = data.flatten()\n",
    "\n",
    "# Create a histogram\n",
    "plt.hist(data, bins=20, density=True, alpha=0.5, color='b', label='Histogram')\n",
    "\n",
    "# Fit a normal distribution to the data\n",
    "mu, std = norm.fit(data)\n",
    "\n",
    "# Plot the PDF of the fitted normal distribution\n",
    "xmin, xmax = min(data), max(data)\n",
    "x = np.linspace(xmin, xmax, 100)\n",
    "p = norm.pdf(x, mu, std)\n",
    "plt.plot(x, p, 'k', linewidth=2, label='Fitted Normal Distribution')\n",
    "\n",
    "plt.title(\"Histogram and Fitted Normal Distribution\")\n",
    "plt.xlabel(\"Value\")\n",
    "plt.ylabel(\"Frequency\")\n",
    "plt.legend()\n",
    "plt.show()\n"
   ]
  }
 ],
 "metadata": {
  "kernelspec": {
   "display_name": ".venv",
   "language": "python",
   "name": "python3"
  },
  "language_info": {
   "codemirror_mode": {
    "name": "ipython",
    "version": 3
   },
   "file_extension": ".py",
   "mimetype": "text/x-python",
   "name": "python",
   "nbconvert_exporter": "python",
   "pygments_lexer": "ipython3",
   "version": "3.8.1"
  },
  "vscode": {
   "interpreter": {
    "hash": "2a4769af3b71159ddbe6dc04cfa25896712f9d08a10a8d2928723a8eabcf7a2e"
   }
  }
 },
 "nbformat": 4,
 "nbformat_minor": 2
}
