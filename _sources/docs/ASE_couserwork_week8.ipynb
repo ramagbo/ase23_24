{
 "cells": [
  {
   "cell_type": "markdown",
   "metadata": {},
   "source": [
    "# Week 8: Confidence intervals and hypothesis testing"
   ]
  },
  {
   "cell_type": "markdown",
   "metadata": {},
   "source": [
    "## Confidence intervals and hypothesis testing\n",
    "\n",
    "This week you'll learn how to derive confidence intervals and test hypothesis after estimation.\n",
    "\n",
    "\n",
    "\n",
    "### Reminder\n",
    "**Standard Deviation (SD):**\n",
    "- Measures the dispersion from the individual data values to the mean\n",
    "- Should be used to construct the confidence interval for a random variable.\n",
    "\n",
    "**Standard Error (SE):**\n",
    "- Measures how far the sample mean is likely to be from the true population mean.\n",
    "- Should be used to construct the confidence interval of sample mean. \n",
    "\n",
    "**Confidence intervals**\n",
    "- For a random variable with $\\mu$ and $\\sigma$, confidence interval is given  by \n",
    "\n",
    "$$\n",
    "   \\bar{Y} \\pm z \\times \\sigma\n",
    "$$\n",
    "\n",
    "\n",
    "- For a population with unknown $\\mu$ and **known** $\\sigma$, confidence interval is given  by \n",
    "\n",
    "$$\n",
    "   \\bar{Y} \\pm z \\times \\frac{\\sigma}{\\sqrt{T}}\n",
    "$$\n",
    "\n",
    "where $T$ is the lenght of the timeseries\n",
    "\n",
    "- For a population with **unknown** $\\mu$ and $\\sigma$:\n",
    "   - The distribution of the sample mean is t-distributed with DoF = N-1: \n",
    " \n",
    "   $$\n",
    "      \\bar{Y} \\sim \\mathcal{t_{\\nu}}\n",
    "   $$ \n",
    " \n",
    "   - Confidence interval for the popolation mean equals to:\n",
    "\n",
    "   $$\n",
    "      \\bar{\\mu} \\pm t \\times \\frac{s}{\\sqrt{T}}\n",
    "   $$\n",
    "\n",
    "\n",
    "**Common Confidence intervals**\n",
    "- $68\\%  \\rightarrow \\bar{Y} \\pm 1.036 \\times \\frac{\\sigma}{\\sqrt{T}}$\n",
    "- $90\\%  \\rightarrow \\bar{Y} \\pm 1.645 \\times \\frac{\\sigma}{\\sqrt{T}}$\n",
    "- $95\\%  \\rightarrow \\bar{Y} \\pm 1.960 \\times \\frac{\\sigma}{\\sqrt{T}}$\n",
    "- $99\\%  \\rightarrow \\bar{Y} \\pm 2.576 \\times \\frac{\\sigma}{\\sqrt{T}}$\n",
    "\n",
    "\n",
    "![ci](../ci.png)\n"
   ]
  },
  {
   "cell_type": "markdown",
   "metadata": {},
   "source": [
    "**Q18.**\n",
    "\n",
    "**In a developed country with data for a long period, $t = 1, 2, \\cdot , T$, the real return on equities,$Y_t$ seems to have been independently distributed with an average real return of 5% with a standard deviation of 10%. These can be taken as known.**\n"
   ]
  },
  {
   "cell_type": "markdown",
   "metadata": {},
   "source": [
    "`````{topic} (a) Assuming that the distribution is normal, what is your forecast for re turns in $T + l$: \n",
    "if we assume that the distribution is normal then we can write \n",
    "$Y_t = 5 + u_t$ where $u_t$ is a RV with mean zero and variance $10^2$\n",
    "\n",
    "Formally \n",
    "\n",
    "$$\n",
    "   Y \\sim \\mathcal{IN}(5,\\,10^{2})\\,.\n",
    "$$\n",
    "\n",
    "$\\mathop{\\mathbb{E}}(Y_{t+1})= \\mathop{\\mathbb{E}}(Y_{t})= 5%$\n",
    "\n",
    "`````"
   ]
  },
  {
   "cell_type": "markdown",
   "metadata": {},
   "source": [
    "`````{topic} (i) 68%  confidence interval\n",
    "\n",
    "$5 \\pm 1.036 \\times 10 = 5 \\pm 10.36$\n",
    "\n",
    "`````"
   ]
  },
  {
   "cell_type": "markdown",
   "metadata": {},
   "source": [
    "`````{topic} (ii) 90%  confidence interval\n",
    "\n",
    "$5 \\pm 1.645 \\times 10 = 5 \\pm 16.45$\n",
    "\n",
    "`````"
   ]
  },
  {
   "cell_type": "markdown",
   "metadata": {},
   "source": [
    "`````{topic} (iii) 95%  confidence interval\n",
    "\n",
    "$5 \\pm 1.960 \\times 10 = 5 \\pm 19.60$\n",
    "\n",
    "`````"
   ]
  },
  {
   "cell_type": "markdown",
   "metadata": {},
   "source": [
    "`````{topic} (b) Again assuming that the distribution is normal, What is your forecast for average returns over the next 25 years: T + l, .. , T + 25\n",
    "\n",
    "- Average return: \n",
    "\n",
    "$\\bar{\\mu} = \\frac{1}{25} \\sum \\mu = \\frac{1}{25} \\times (25 \\times 5) = 5$\n",
    "\n",
    "`````"
   ]
  },
  {
   "cell_type": "markdown",
   "metadata": {},
   "source": [
    "`````{topic} (i) 68%  confidence interval\n",
    "\n",
    "$5 \\pm 1.036 \\times \\frac{10}{\\sqrt{25}} = 5 \\pm 1.036 \\times \\frac{10}{5} = 5 \\pm 1.036 \\times 2 = 5 \\pm  2.07$\n",
    "\n",
    "`````"
   ]
  },
  {
   "cell_type": "markdown",
   "metadata": {},
   "source": [
    "`````{topic}  (ii) 68%  confidence interval\n",
    "\n",
    "$5 \\pm 1.645 \\times \\frac{10}{\\sqrt{25}} = 5 \\pm 1.645 \\times \\frac{10}{5} = 5 \\pm 1.645 \\times 2 = 5 \\pm  3.29$\n",
    "`````"
   ]
  },
  {
   "cell_type": "markdown",
   "metadata": {},
   "source": [
    "`````{topic} (iii) 95%  confidence interval\n",
    "\n",
    "$5 \\pm 1.960 \\times \\frac{10}{\\sqrt{25}} = 5 \\pm 1.960 \\times \\frac{10}{5} = 5 \\pm 1.960 \\times 2 = 5 \\pm  3.92$\n",
    "\n",
    "`````"
   ]
  },
  {
   "cell_type": "markdown",
   "metadata": {},
   "source": [
    "`````{topic} (c)  Suppose the distribution was non-normal \n",
    "\n",
    " - The forecast remain unchanged in any case. \n",
    "\n",
    " - (a) We are unable to compute the confidence interval without knowledge of the returns distribution\n",
    "\n",
    " - (b) If the sample were large enough we could approximate the estimated mean distribution to the normal and arrive at the same answer\n",
    "\n",
    "`````"
   ]
  },
  {
   "cell_type": "markdown",
   "metadata": {},
   "source": [
    "**Q19.**\n",
    "\n",
    " **In an emerging market with only 9 years of data the estimated mean is 5% and estimated sample standard deviation is 10%. However, the data does seem independently normally distributed.**"
   ]
  },
  {
   "cell_type": "markdown",
   "metadata": {},
   "source": [
    "`````{topic} (a)  What is the formula used for calculating the sample standard deviation in this case. \n",
    "\n",
    "$$\n",
    "    S(Y) = \\sqrt{ \\frac{(Y_t - \\hat{\\alpha})^2}{T-1}} = \\sqrt{ \\frac{(Y_t - \\hat{\\alpha})^2}{9-1}}\n",
    "$$\n",
    "\n",
    "\n",
    "`````"
   ]
  },
  {
   "cell_type": "markdown",
   "metadata": {},
   "source": [
    "`````{topic} (b)  What is your forecast for returns in T + l \n",
    "\n",
    "$\\mathop{\\mathbb{E}}(Y_{t+1})= \\mathop{\\mathbb{E}}(Y_{t})= 5%$\n",
    "\n",
    "`````"
   ]
  },
  {
   "cell_type": "markdown",
   "metadata": {},
   "source": [
    "```{note}\n",
    "Here we are using and estimate of the standard deviation so we use the t-distribution table with $\\nu=8$ degrees of freedom\n",
    "```"
   ]
  },
  {
   "cell_type": "markdown",
   "metadata": {},
   "source": [
    "`````{topic} (i) 90%  confidence interval for forecast\n",
    "\n",
    "$t_8 = 1.860$ for 90%\n",
    "\n",
    "$5 \\pm 1.860 \\times 10 = 5 \\pm 18.60$\n",
    "\n",
    "`````"
   ]
  },
  {
   "cell_type": "markdown",
   "metadata": {},
   "source": [
    "`````{topic} (ii) 95%  confidence interval for forecast\n",
    "\n",
    "$t_8 = 2.306$ for 95%\n",
    "\n",
    "$5 \\pm 2.306 \\times 10 = 5 \\pm 23.06$\n",
    "\n",
    "`````"
   ]
  },
  {
   "cell_type": "markdown",
   "metadata": {},
   "source": [
    "`````{topic} (c)  What is your forecast for average returns over the next 25 years: T + 1, .. , T + 25,\n",
    "The forecast does not change and is equals to the expected value \n",
    "\n",
    "$\\bar{\\mu} = \\frac{1}{25} \\sum \\mu = \\frac{1}{25} \\times (25 \\times 5) = 5$\n",
    "\n",
    "`````"
   ]
  },
  {
   "cell_type": "markdown",
   "metadata": {},
   "source": [
    "`````{topic} (i) 90%  confidence interval for forecast\n",
    "\n",
    "\n",
    "$t_8 = 1.860$ for 90%\n",
    "\n",
    "$5 \\pm 1.860 \\times \\frac{10}{\\sqrt{25}} = 5 \\pm 1.860 \\times 2 = 5 \\pm 3.72 $\n",
    "\n",
    "`````"
   ]
  },
  {
   "cell_type": "markdown",
   "metadata": {},
   "source": [
    "`````{topic} (ii) 95%  confidence interval for forecast\n",
    "\n",
    "$t_8 = 2.306$ for 95%\n",
    "\n",
    "$5 \\pm 2.306 \\times \\frac{10}{\\sqrt{25}} = 5 \\pm 2.306 \\times 2 = 5 \\pm 4.612 $\n",
    "\n",
    "`````"
   ]
  },
  {
   "cell_type": "markdown",
   "metadata": {},
   "source": [
    "**Q20.**\n",
    "\n",
    " **Over a long period of time marks on an exam have been normally distributed with mean 55 and standard deviation of 12. Suppose you ob serve that a class of 16 students has an average mark of only 50.**\n",
    " "
   ]
  },
  {
   "cell_type": "markdown",
   "metadata": {},
   "source": [
    "`````{topic} (a) Test whether this is significantly different from the long-run mean. Use the long run standard deviation, the 5% level and a two sided test, with a critical value of ± 1.96.\n",
    "- Set the NUll hypothesis and the alternative \n",
    "    - $H_0: \\bar{x} =\\mu$ (sample mean $\\mu = 50$ and the long-run mean $\\mu=55$)\n",
    "    - $H_1: \\bar{x} \\neq \\mu$\n",
    "\n",
    "- Calculate the test statistics:\n",
    "\n",
    "$$\n",
    "    \\tau = \\frac{50-55}{\\frac{12}{\\sqrt{16}}}=\\frac{-5}{3}=-1.67\n",
    "$$\n",
    "\n",
    "- check range using confidence interval ($\\alpha$): $\\alpha=5\\%$\n",
    "    - for a two-tailed test $\\rightarrow$ use $\\frac{5\\%}{2}=0.025 \\rightarrow range is \\pm 1.96$\n",
    "\n",
    "- Check whether the calculated test statistic is within the critical values, in which case → fail to reject the $H_0$\n",
    "    - Do not reject the null that the mean has not changed. \n",
    "`````"
   ]
  },
  {
   "cell_type": "markdown",
   "metadata": {},
   "source": [
    "`````{topic} (b) How would your answer have changed had there been 100 students in the class.\n",
    "We apply the same methodology as above but on the second step we change 16 to 100\n",
    "\n",
    "- Calculate the test statistics:\n",
    "\n",
    "$$\n",
    "    \\tau = \\frac{50-55}{\\frac{12}{\\sqrt{100}}}=\\frac{-5}{1.2}=-4.17\n",
    "$$\n",
    "\n",
    "- we reject the null because -4.17 is outside the critical values \n",
    "`````"
   ]
  },
  {
   "cell_type": "markdown",
   "metadata": {},
   "source": [
    "`````{topic} (c) How would your answer have changed if in the class of 16 you had tested at the 5% level whether the average was significantly _less_ than the long-run mean.\n",
    "`Note here we have a one tailed test`\n",
    "\n",
    "Repeat steps 1-4 from (a):\n",
    "- Set the NUll hypothesis and the alternative \n",
    "    - $H_0: \\bar{x} =\\mu$ (sample mean $\\mu = 50$ and the long-run mean $\\mu=55$)\n",
    "    - $H_1: \\bar{x} < \\mu$\n",
    "\n",
    "- Calculate the test statistics:\n",
    "\n",
    "$$\n",
    "    \\tau = \\frac{50-55}{\\frac{12}{\\sqrt{16}}}=\\frac{-5}{3}=-1.67\n",
    "$$\n",
    "\n",
    "- check range using confidence interval ($\\alpha$): $\\alpha=5\\%$\n",
    "    - for one-sided test $\\rightarrow$ **critical value is** -1.645$\n",
    "\n",
    "- Check whether the calculated test statistic is within the critical values:\n",
    "    - -1.67 < -1.645 $\\rightarrow$ it is in the rejection zone $\\rightarrow$ reject the null that the mean has not changed. The difference is significant\n",
    "\n",
    "\n",
    "`````"
   ]
  },
  {
   "cell_type": "markdown",
   "metadata": {},
   "source": [
    "`````{topic} (d) How would your answer have changed if in the class of 16 you had tested at the 5% level whether the average was significantly less than the long-run mean but used an estimated standard deviation for that class, which was also 12. \n",
    "\n",
    "The test statistic is the same as in (a) but the critical value is the one-tailed 5% for a t-distribution with (16-1) Dof which is -1.753\n",
    "\n",
    "- Set the NUll hypothesis and the alternative \n",
    "    - $H_0: \\bar{x} =\\mu$ (sample mean $\\mu = 50$ and the long-run mean $\\mu=55$)\n",
    "    - $H_1: \\bar{x} < \\mu$\n",
    "\n",
    "- Calculate the test statistics:\n",
    "\n",
    "$$\n",
    "    \\tau = \\frac{50-55}{\\frac{12}{\\sqrt{16}}}=\\frac{-5}{3}=-1.67\n",
    "$$\n",
    "\n",
    "- check range using confidence interval ($\\alpha$): $\\alpha=5\\%$\n",
    "    - for one-sided test $\\rightarrow$ **critical value is** -1.753$\n",
    "\n",
    "- Check whether the calculated test statistic is within the critical values, in which case → fail to reject the $H_0$\n",
    "    - -1.67 > -1.753 $\\rightarrow$ it is not in the rejection zone $\\rightarrow$ do not reject the null that the mean has not changed. The difference is **not significant** at the 5% level \n",
    "\n",
    "`````"
   ]
  }
 ],
 "metadata": {
  "kernelspec": {
   "display_name": ".venv",
   "language": "python",
   "name": "python3"
  },
  "language_info": {
   "codemirror_mode": {
    "name": "ipython",
    "version": 3
   },
   "file_extension": ".py",
   "mimetype": "text/x-python",
   "name": "python",
   "nbconvert_exporter": "python",
   "pygments_lexer": "ipython3",
   "version": "3.9.13"
  }
 },
 "nbformat": 4,
 "nbformat_minor": 2
}
