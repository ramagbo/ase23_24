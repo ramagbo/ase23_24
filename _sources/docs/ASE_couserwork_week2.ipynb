{
 "cells": [
  {
   "cell_type": "markdown",
   "metadata": {},
   "source": [
    "# Week 2: Descriptive statistics"
   ]
  },
  {
   "cell_type": "markdown",
   "metadata": {},
   "source": [
    "## Introduction to descriptive statistics\n",
    "Descriptive statistics are numbers that are used to describe and summarize the data. \n",
    "\n",
    "### Measures of central tendency:\n",
    "-   mean\n",
    "-   median  \n",
    "-   mode\n",
    "\n",
    "### Measures of variability or dispersion:\n",
    "-   variance or standard deviation\n",
    "-   coefficient of variation\n",
    "-   minimum and maximum values \n",
    "-   IQR (Interquartile Range) \n",
    "-   skewness \n",
    "-   kurtosis\n"
   ]
  },
  {
   "cell_type": "markdown",
   "metadata": {},
   "source": [
    "### Measures of dispersion or variability\n",
    "#### Variance\n",
    "- Variance measures the dispersion of a set of data points around their mean value.\n",
    "\n",
    "- Variance gives results in the original units squared.\n",
    "\n",
    "#### Standard deviation\n",
    "- Standard deviation is the most common used measure of variability.\n",
    "\n",
    "- It is the square-root of the variance.\n",
    "\n",
    "#### Skewness\n",
    "- Skewness is a measure of a distribution's symmetry or more precisely lack of symmetry.\n",
    "\n",
    "- It is used to mean the absence of symmetry from the mean of the dataset.\n",
    "\n",
    "#### The rule of thumb for skewness values are:\n",
    "- If the skewness is between -0.5 and 0.5, the data are fairly symmetrical.\n",
    "\n",
    "- If the skewness is between -1 and – 0.5 or between 0.5 and 1, the data are moderately skewed.\n",
    "\n",
    "- If the skewness is less than -1 or greater than 1, the data are highly skewed.\n",
    "\n",
    "\n",
    "![skew](../skew.png)\n",
    "\n",
    "#### Kurtosis\n",
    "- Kurtosis is the degree of peakedness of a distribution.\n",
    "\n",
    "##### Mesokurtic curve: \n",
    "- kurtosis exactly 3 (excess kurtosis exactly 0).\n",
    "\n",
    "##### Platykurtic curve: \n",
    "- A distribution with kurtosis < 3 (excess kurtosis < 0) is called platykurtic.\n",
    "\n",
    "- As compared to a normal distribution, its central peak is lower and broader, and its tails are shorter and thinner.\n",
    "\n",
    "##### Leptokurtic curve: \n",
    "- A distribution with kurtosis > 3 (excess kurtosis > 0) is called leptokurtic.\n",
    "\n",
    "- As compared to a normal distribution, its central peak is higher and sharper, and its tails are longer and fatter.\n",
    "\n",
    "\n",
    "\n",
    "![kurt](../kurt.png)"
   ]
  },
  {
   "cell_type": "markdown",
   "metadata": {},
   "source": [
    "## Import python libraries"
   ]
  },
  {
   "cell_type": "code",
   "execution_count": 15,
   "metadata": {},
   "outputs": [],
   "source": [
    "import numpy as np\n",
    "import pandas as pd\n",
    "import scipy.stats as stats"
   ]
  },
  {
   "cell_type": "code",
   "execution_count": 14,
   "metadata": {},
   "outputs": [],
   "source": [
    "# Sample data \n",
    "\n",
    "data = [12, 15, 16, 18, 20, 21, 22, 23, 24, 25]"
   ]
  },
  {
   "cell_type": "markdown",
   "metadata": {},
   "source": [
    "Given a sample of observations  $y_t, t = 1, \\cdots, T$, the mean $\\mu$ is calculated such that:\n",
    "\n",
    "\n",
    "$\\mu = \\frac{\\sum_{i=1}^T {y_t}}{T}$."
   ]
  },
  {
   "cell_type": "markdown",
   "metadata": {},
   "source": [
    "1. **Mean (Average):**\n",
    "\n",
    "   Mean (μ) is calculated as the sum of all data points divided by the number of data points."
   ]
  },
  {
   "cell_type": "code",
   "execution_count": 17,
   "metadata": {},
   "outputs": [
    {
     "data": {
      "text/plain": [
       "19.6"
      ]
     },
     "execution_count": 17,
     "metadata": {},
     "output_type": "execute_result"
    }
   ],
   "source": [
    "# Manual Calculation\n",
    "\n",
    "Mean = (12 + 15 + 16 + 18 + 20 + 21 + 22 + 23 + 24 + 25) / 10 \n",
    "Mean"
   ]
  },
  {
   "cell_type": "code",
   "execution_count": 19,
   "metadata": {},
   "outputs": [
    {
     "data": {
      "text/plain": [
       "19.6"
      ]
     },
     "execution_count": 19,
     "metadata": {},
     "output_type": "execute_result"
    }
   ],
   "source": [
    "# Calculation using Python\n",
    "\n",
    "Mean_p = np.mean(data)\n",
    "Mean_p"
   ]
  },
  {
   "cell_type": "markdown",
   "metadata": {},
   "source": [
    "#### Variance\n",
    "Variance  measures how data points vary from the mean.\n",
    "\n",
    "The variance is calculated such that:\n",
    "\n",
    " $V(x) = \\frac{\\sum_{i=1}^T {(y_t - \\mu)^2}}{T-1}$."
   ]
  },
  {
   "cell_type": "code",
   "execution_count": 20,
   "metadata": {},
   "outputs": [
    {
     "data": {
      "text/plain": [
       "18.044444444444444"
      ]
     },
     "execution_count": 20,
     "metadata": {},
     "output_type": "execute_result"
    }
   ],
   "source": [
    "# Manual Calculation\n",
    "\n",
    "Variance = ((12 - 19.6)**2 + (15 - 19.6)**2 + (16 - 19.6)**2 + (18 - 19.6)**2 + (20 - 19.6)**2 + (21 - 19.6)**2 + (22 - 19.6)**2 + (23 - 19.6)**2 + (24 - 19.6)**2 + (25 - 19.6)**2) / (10 - 1)\n",
    "Variance"
   ]
  },
  {
   "cell_type": "code",
   "execution_count": 21,
   "metadata": {},
   "outputs": [
    {
     "data": {
      "text/plain": [
       "18.044444444444444"
      ]
     },
     "execution_count": 21,
     "metadata": {},
     "output_type": "execute_result"
    }
   ],
   "source": [
    "# Python implementation of Variance\n",
    "\n",
    "variance_p = np.var(data, ddof=1)  # ddof=1 for sample variance\n",
    "variance_p"
   ]
  },
  {
   "cell_type": "markdown",
   "metadata": {},
   "source": [
    "The standard deviation is calculated such that:\n",
    "\n",
    "$σ(x)= \\sqrt{var}$."
   ]
  },
  {
   "cell_type": "code",
   "execution_count": 22,
   "metadata": {},
   "outputs": [
    {
     "data": {
      "text/plain": [
       "4.247875285886398"
      ]
     },
     "execution_count": 22,
     "metadata": {},
     "output_type": "execute_result"
    }
   ],
   "source": [
    "# Manual Calculation\n",
    "\n",
    "std_dev = np.sqrt(Variance)\n",
    "std_dev"
   ]
  },
  {
   "cell_type": "code",
   "execution_count": 23,
   "metadata": {},
   "outputs": [
    {
     "data": {
      "text/plain": [
       "4.247875285886398"
      ]
     },
     "execution_count": 23,
     "metadata": {},
     "output_type": "execute_result"
    }
   ],
   "source": [
    "# Standard Deviation\n",
    "std_dev_p = np.std(data, ddof=1)  # ddof=1 for sample standard deviation\n",
    "std_dev_p"
   ]
  },
  {
   "cell_type": "markdown",
   "metadata": {},
   "source": [
    "If we let \n",
    "\n",
    "$$\n",
    "z_t = \\frac{\\sum_{t=1}^T {(y_t - \\mu)}}{s}\n",
    "$$ "
   ]
  },
  {
   "cell_type": "markdown",
   "metadata": {},
   "source": [
    "We can calculate the coefficient of skeweness as \n",
    "\n",
    "$$\n",
    "skew = \\frac{\\sum_{t=1}^T {(z_t)^3}}{T}\n",
    "$$"
   ]
  },
  {
   "cell_type": "code",
   "execution_count": 24,
   "metadata": {},
   "outputs": [
    {
     "data": {
      "text/plain": [
       "-0.37635737968447946"
      ]
     },
     "execution_count": 24,
     "metadata": {},
     "output_type": "execute_result"
    }
   ],
   "source": [
    "# Manual Calculation\n",
    "\n",
    "Skewness = (pow((12 - 19.6),3) + pow((15 - 19.6),3) + pow((16 - 19.6),3) + pow((18 - 19.6),3) + pow((20 - 19.6),3) + pow((21 - 19.6),3) + pow((22 - 19.6),3) + pow((23 - 19.6),3) + pow(24 - 19.6,3) + pow((25 - 19.6),3)) / (10 * pow(std_dev,3))\n",
    "Skewness"
   ]
  },
  {
   "cell_type": "code",
   "execution_count": 25,
   "metadata": {},
   "outputs": [
    {
     "data": {
      "text/plain": [
       "-0.44079501259842147"
      ]
     },
     "execution_count": 25,
     "metadata": {},
     "output_type": "execute_result"
    }
   ],
   "source": [
    "# Skewness python implementation\n",
    "\n",
    "skew = stats.skew(data)\n",
    "skew"
   ]
  },
  {
   "cell_type": "markdown",
   "metadata": {},
   "source": [
    "We can calculate the coefficient of kurtosis as: \n",
    "\n",
    "$$\n",
    "kurt = \\frac{\\sum_{t=1}^T {(z_t)^4}}{T}\n",
    "$$\n",
    "\n",
    "using the biaised estimator of the standard deviation $\\sigma$ we can write the expression above as:\n",
    "\n",
    "$$\n",
    "kurt = T^{-1} \\frac{\\sum_{t=1}^T {(y_t - \\mu)^4}}{(\\sigma^2)^2}\n",
    "$$"
   ]
  },
  {
   "cell_type": "code",
   "execution_count": 26,
   "metadata": {},
   "outputs": [
    {
     "data": {
      "text/plain": [
       "1.6444224562595553"
      ]
     },
     "execution_count": 26,
     "metadata": {},
     "output_type": "execute_result"
    }
   ],
   "source": [
    "# Manual Calculation\n",
    "\n",
    "Kurtosis = (pow((12 - 19.6),4) + pow((15 - 19.6),4) + pow((16 - 19.6),4) + pow((18 - 19.6),4) + pow((20 - 19.6),4) + pow((21 - 19.6),4) + pow((22 - 19.6),4) + pow((23 - 19.6),4) + pow((24 - 19.6),4) + pow((25 - 19.6),4)) / (10 * pow(std_dev,4))\n",
    "Kurtosis"
   ]
  },
  {
   "cell_type": "code",
   "execution_count": 27,
   "metadata": {},
   "outputs": [
    {
     "data": {
      "text/plain": [
       "-0.9698488194326482"
      ]
     },
     "execution_count": 27,
     "metadata": {},
     "output_type": "execute_result"
    }
   ],
   "source": [
    "# Kurtosis using python\n",
    "\n",
    "kurtosis = stats.kurtosis(data)\n",
    "kurtosis"
   ]
  },
  {
   "cell_type": "markdown",
   "metadata": {},
   "source": [
    "and the covariance $Cov(x,y)$ between $x_i$ and $y_i$ as:\n",
    "\n",
    "$$\n",
    "Cov(x,y) = \\frac{\\sum_{t=1}^T {(y_t - \\mu_y)(x_t - \\mu_x)}}{T}\n",
    "$$\n"
   ]
  },
  {
   "cell_type": "markdown",
   "metadata": {},
   "source": [
    "and the correlation $\\rho$ between $X_i$ and $Y_i$ as:\n",
    "\n",
    "$$\n",
    "\\rho(x,y) = \\frac{Cov(x,y)}{S(x)S(y)}\n",
    "$$\n",
    "\n"
   ]
  },
  {
   "cell_type": "markdown",
   "metadata": {},
   "source": [
    "Q2. \n",
    "\n",
    "In a speech, `Why Banks failed the stress test`, February 2009, Andrew Haldane of the Bank of England provides the following summary statistics for the \"golden era\" 1998-2007 and for a long period. Growth is annual percent GDP growth, inflation is annual percent change in the RPI and for both the long period is 1857-2007. FTSE is the monthly percent change in the all share index and the long period is 1693-2007."
   ]
  },
  {
   "cell_type": "markdown",
   "metadata": {},
   "source": [
    "|                 |  Growth |        | Inflation |        |   FTSE  |        |\n",
    "|-----------------|:-------:|:------:|:---------:|:------:|:-------:|:------:|\n",
    "|                 |  98-07  |  long  |   98-07   |  long  |  98-07  |  long  |\n",
    "| Mean            |   2.9   |   2.0  |    2.8    |   3.1  |   0.2   |   0.2  |\n",
    "|  SD             |   0.6   |   2.7  |    0.9    |   5.9  |   4.1   |   4.1  |\n",
    "| Skew            |   0.2   |  -0.8  |    0.0    |   1.2  |   -0.8  |   2.6  |\n",
    "| Excess Kurtosis |   -0.8  |   2.2  |    -0.3   |   3.0  |   3.8   |  62.3  |"
   ]
  },
  {
   "cell_type": "markdown",
   "metadata": {},
   "source": [
    "(a) Explain how the mean; standard deviation, SD; coefficient of skewness and coefficient of kurtosis are calculated, and what they measure."
   ]
  },
  {
   "cell_type": "markdown",
   "metadata": {},
   "source": [
    "(b) What values for the coefficients of skewness and kurtosis would you expect from a normal distribution. Which of the series shows the least evidence of normality. "
   ]
  },
  {
   "cell_type": "markdown",
   "metadata": {},
   "source": [
    "( c) Haldane says \"these distributions suggest that the Golden Era\" distri­butions have a much smaller variance and slimmer tails\" and \"many risk man­agement models developed within the private sector during the golden decade were, in effect, pre-programmed to induce disaster myopia.\". Explain what he means using these statistics. "
   ]
  },
  {
   "cell_type": "markdown",
   "metadata": {},
   "source": [
    "Q3. \n",
    "\n",
    "Consider the set of observations on a variable $X_i, i = 1, 2, ... , T$ and \n",
    "\n",
    "\n",
    "$w_i = a + b x_i$.\n",
    "\n",
    "\n",
    "\n",
    "$\\mu = \\frac{\\sum_{i=1}^T {x_i}}{T}$.\n"
   ]
  },
  {
   "cell_type": "markdown",
   "metadata": {},
   "source": [
    "Q4. \n",
    "\n",
    "Consider the set of observations on variables $x_i, y_i$,   $i = 1, 2, ... , T$. \n",
    "\n",
    "Let: \n",
    "\n",
    "$$\n",
    "z(y_i) = \\frac{y_i - \\mu_y}{S(y)}\n",
    "$$\n",
    "\n",
    "and \n",
    "\n",
    "$$\n",
    "z(x_i) = \\frac{x_i - \\mu_x}{S(x)}\n",
    "$$"
   ]
  },
  {
   "cell_type": "markdown",
   "metadata": {},
   "source": [
    "(i) \n",
    "\n",
    "Show that each of the following four expressions are true"
   ]
  },
  {
   "cell_type": "markdown",
   "metadata": {},
   "source": [
    "$$\n",
    " \\frac{\\sum_{t=1}^N z(y_i)}{N} =0\n",
    "$$\n",
    "$$\n",
    "\\frac{\\sum_{t=1}^N [z(y_i)]^2}{N} =1\n",
    "$$\n",
    "\n",
    "$$\n",
    "\\rho(x,y) = \\frac{\\sum_{t=1}^N z(y_i)z(x_i)}{N}\n",
    "$$\n",
    "\n",
    "$$\n",
    "\\rho(x,x) = 1\n",
    "$$\n",
    "\n",
    "\n"
   ]
  },
  {
   "cell_type": "markdown",
   "metadata": {},
   "source": [
    "(ii) \n",
    "\n",
    "Show that the variance equals the mean of the squares minus the square of the mean:\n",
    "\n",
    "$$\n",
    " \\frac{\\sum_{i=1}^N (y_i - \\mu_y)^2}{N} = \\frac{\\sum_{i=1}^N (y_i)^2}{N} - (\\mu_y)^2\n",
    "$$\n"
   ]
  },
  {
   "cell_type": "markdown",
   "metadata": {},
   "source": [
    "| 2 + data |\n",
    "|----------|\n",
    "| 2+12     |\n",
    "| 2+15     |\n",
    "| 2+16     |\n",
    "| 2+18     |\n",
    "| 2+20     |\n",
    "| 2+21     |\n",
    "| 2+22     |\n",
    "| 2+23     |\n",
    "| 2+24     |\n",
    "| 2+25     |"
   ]
  },
  {
   "cell_type": "code",
   "execution_count": 4,
   "metadata": {},
   "outputs": [],
   "source": [
    "%matplotlib inline\n",
    "import os\n",
    "from datetime import datetime\n",
    "import pandas as pd\n",
    "import pandas_datareader.data as web\n",
    "import matplotlib.pyplot as plt\n",
    "import mplfinance as mpf\n",
    "import seaborn as sns"
   ]
  },
  {
   "cell_type": "markdown",
   "metadata": {},
   "source": [
    "### FRED"
   ]
  },
  {
   "cell_type": "code",
   "execution_count": 13,
   "metadata": {},
   "outputs": [
    {
     "data": {
      "text/html": [
       "<div>\n",
       "<style scoped>\n",
       "    .dataframe tbody tr th:only-of-type {\n",
       "        vertical-align: middle;\n",
       "    }\n",
       "\n",
       "    .dataframe tbody tr th {\n",
       "        vertical-align: top;\n",
       "    }\n",
       "\n",
       "    .dataframe thead th {\n",
       "        text-align: right;\n",
       "    }\n",
       "</style>\n",
       "<table border=\"1\" class=\"dataframe\">\n",
       "  <thead>\n",
       "    <tr style=\"text-align: right;\">\n",
       "      <th></th>\n",
       "      <th>GDP</th>\n",
       "    </tr>\n",
       "  </thead>\n",
       "  <tbody>\n",
       "    <tr>\n",
       "      <th>count</th>\n",
       "      <td>53.000000</td>\n",
       "    </tr>\n",
       "    <tr>\n",
       "      <th>mean</th>\n",
       "      <td>19444.975698</td>\n",
       "    </tr>\n",
       "    <tr>\n",
       "      <th>std</th>\n",
       "      <td>3255.623892</td>\n",
       "    </tr>\n",
       "    <tr>\n",
       "      <th>min</th>\n",
       "      <td>14764.610000</td>\n",
       "    </tr>\n",
       "    <tr>\n",
       "      <th>25%</th>\n",
       "      <td>16728.687000</td>\n",
       "    </tr>\n",
       "    <tr>\n",
       "      <th>50%</th>\n",
       "      <td>18892.639000</td>\n",
       "    </tr>\n",
       "    <tr>\n",
       "      <th>75%</th>\n",
       "      <td>21647.640000</td>\n",
       "    </tr>\n",
       "    <tr>\n",
       "      <th>max</th>\n",
       "      <td>26813.601000</td>\n",
       "    </tr>\n",
       "  </tbody>\n",
       "</table>\n",
       "</div>"
      ],
      "text/plain": [
       "                GDP\n",
       "count     53.000000\n",
       "mean   19444.975698\n",
       "std     3255.623892\n",
       "min    14764.610000\n",
       "25%    16728.687000\n",
       "50%    18892.639000\n",
       "75%    21647.640000\n",
       "max    26813.601000"
      ]
     },
     "execution_count": 13,
     "metadata": {},
     "output_type": "execute_result"
    }
   ],
   "source": [
    "start = datetime(2010, 1, 1)\n",
    "\n",
    "end = datetime(2023, 1, 27)\n",
    "\n",
    "gdp = web.DataReader('GDP', 'fred', start, end)\n",
    "\n",
    "gdp.describe()"
   ]
  },
  {
   "cell_type": "code",
   "execution_count": null,
   "metadata": {},
   "outputs": [],
   "source": [
    "inflation = web.DataReader(['CPIAUCSL', 'CPILFESL'], 'fred', start, end)\n",
    "inflation.info()"
   ]
  },
  {
   "cell_type": "markdown",
   "metadata": {},
   "source": [
    "### World Bank"
   ]
  },
  {
   "cell_type": "code",
   "execution_count": 1,
   "metadata": {},
   "outputs": [
    {
     "data": {
      "text/html": [
       "<div>\n",
       "<style scoped>\n",
       "    .dataframe tbody tr th:only-of-type {\n",
       "        vertical-align: middle;\n",
       "    }\n",
       "\n",
       "    .dataframe tbody tr th {\n",
       "        vertical-align: top;\n",
       "    }\n",
       "\n",
       "    .dataframe thead th {\n",
       "        text-align: right;\n",
       "    }\n",
       "</style>\n",
       "<table border=\"1\" class=\"dataframe\">\n",
       "  <thead>\n",
       "    <tr style=\"text-align: right;\">\n",
       "      <th></th>\n",
       "      <th>id</th>\n",
       "      <th>name</th>\n",
       "      <th>unit</th>\n",
       "      <th>source</th>\n",
       "      <th>sourceNote</th>\n",
       "      <th>sourceOrganization</th>\n",
       "      <th>topics</th>\n",
       "    </tr>\n",
       "  </thead>\n",
       "  <tbody>\n",
       "    <tr>\n",
       "      <th>691</th>\n",
       "      <td>6.0.GDPpc_constant</td>\n",
       "      <td>GDP per capita, PPP (constant 2011 internation...</td>\n",
       "      <td></td>\n",
       "      <td>LAC Equity Lab</td>\n",
       "      <td>GDP per capita based on purchasing power parit...</td>\n",
       "      <td>b'World Development Indicators (World Bank)'</td>\n",
       "      <td>Economy &amp; Growth</td>\n",
       "    </tr>\n",
       "    <tr>\n",
       "      <th>10978</th>\n",
       "      <td>NY.GDP.PCAP.KD</td>\n",
       "      <td>GDP per capita (constant 2015 US$)</td>\n",
       "      <td></td>\n",
       "      <td>World Development Indicators</td>\n",
       "      <td>GDP per capita is gross domestic product divid...</td>\n",
       "      <td>b'World Bank national accounts data, and OECD ...</td>\n",
       "      <td>Economy &amp; Growth</td>\n",
       "    </tr>\n",
       "    <tr>\n",
       "      <th>10980</th>\n",
       "      <td>NY.GDP.PCAP.KN</td>\n",
       "      <td>GDP per capita (constant LCU)</td>\n",
       "      <td></td>\n",
       "      <td>World Development Indicators</td>\n",
       "      <td>GDP per capita is gross domestic product divid...</td>\n",
       "      <td>b'World Bank national accounts data, and OECD ...</td>\n",
       "      <td>Economy &amp; Growth</td>\n",
       "    </tr>\n",
       "    <tr>\n",
       "      <th>10982</th>\n",
       "      <td>NY.GDP.PCAP.PP.KD</td>\n",
       "      <td>GDP per capita, PPP (constant 2017 internation...</td>\n",
       "      <td></td>\n",
       "      <td>World Development Indicators</td>\n",
       "      <td>GDP per capita based on purchasing power parit...</td>\n",
       "      <td>b'International Comparison Program, World Bank...</td>\n",
       "      <td>Economy &amp; Growth</td>\n",
       "    </tr>\n",
       "    <tr>\n",
       "      <th>10983</th>\n",
       "      <td>NY.GDP.PCAP.PP.KD.87</td>\n",
       "      <td>GDP per capita, PPP (constant 1987 internation...</td>\n",
       "      <td></td>\n",
       "      <td>WDI Database Archives</td>\n",
       "      <td></td>\n",
       "      <td>b''</td>\n",
       "      <td></td>\n",
       "    </tr>\n",
       "  </tbody>\n",
       "</table>\n",
       "</div>"
      ],
      "text/plain": [
       "                         id  \\\n",
       "691      6.0.GDPpc_constant   \n",
       "10978        NY.GDP.PCAP.KD   \n",
       "10980        NY.GDP.PCAP.KN   \n",
       "10982     NY.GDP.PCAP.PP.KD   \n",
       "10983  NY.GDP.PCAP.PP.KD.87   \n",
       "\n",
       "                                                    name unit  \\\n",
       "691    GDP per capita, PPP (constant 2011 internation...        \n",
       "10978                 GDP per capita (constant 2015 US$)        \n",
       "10980                      GDP per capita (constant LCU)        \n",
       "10982  GDP per capita, PPP (constant 2017 internation...        \n",
       "10983  GDP per capita, PPP (constant 1987 internation...        \n",
       "\n",
       "                             source  \\\n",
       "691                  LAC Equity Lab   \n",
       "10978  World Development Indicators   \n",
       "10980  World Development Indicators   \n",
       "10982  World Development Indicators   \n",
       "10983         WDI Database Archives   \n",
       "\n",
       "                                              sourceNote  \\\n",
       "691    GDP per capita based on purchasing power parit...   \n",
       "10978  GDP per capita is gross domestic product divid...   \n",
       "10980  GDP per capita is gross domestic product divid...   \n",
       "10982  GDP per capita based on purchasing power parit...   \n",
       "10983                                                      \n",
       "\n",
       "                                      sourceOrganization            topics  \n",
       "691         b'World Development Indicators (World Bank)'  Economy & Growth  \n",
       "10978  b'World Bank national accounts data, and OECD ...  Economy & Growth  \n",
       "10980  b'World Bank national accounts data, and OECD ...  Economy & Growth  \n",
       "10982  b'International Comparison Program, World Bank...  Economy & Growth  \n",
       "10983                                                b''                    "
      ]
     },
     "execution_count": 1,
     "metadata": {},
     "output_type": "execute_result"
    }
   ],
   "source": [
    "from pandas_datareader import wb\n",
    "gdp_variables = wb.search('gdp.*capita.*const')\n",
    "gdp_variables.head()"
   ]
  },
  {
   "cell_type": "code",
   "execution_count": 10,
   "metadata": {},
   "outputs": [
    {
     "data": {
      "text/html": [
       "<div>\n",
       "<style scoped>\n",
       "    .dataframe tbody tr th:only-of-type {\n",
       "        vertical-align: middle;\n",
       "    }\n",
       "\n",
       "    .dataframe tbody tr th {\n",
       "        vertical-align: top;\n",
       "    }\n",
       "\n",
       "    .dataframe thead th {\n",
       "        text-align: right;\n",
       "    }\n",
       "</style>\n",
       "<table border=\"1\" class=\"dataframe\">\n",
       "  <thead>\n",
       "    <tr style=\"text-align: right;\">\n",
       "      <th></th>\n",
       "      <th></th>\n",
       "      <th>NY.GDP.PCAP.KD</th>\n",
       "    </tr>\n",
       "    <tr>\n",
       "      <th>country</th>\n",
       "      <th>year</th>\n",
       "      <th></th>\n",
       "    </tr>\n",
       "  </thead>\n",
       "  <tbody>\n",
       "    <tr>\n",
       "      <th rowspan=\"5\" valign=\"top\">Canada</th>\n",
       "      <th>2019</th>\n",
       "      <td>45113.066282</td>\n",
       "    </tr>\n",
       "    <tr>\n",
       "      <th>2018</th>\n",
       "      <td>44917.483728</td>\n",
       "    </tr>\n",
       "    <tr>\n",
       "      <th>2017</th>\n",
       "      <td>44325.488337</td>\n",
       "    </tr>\n",
       "    <tr>\n",
       "      <th>2016</th>\n",
       "      <td>43536.913403</td>\n",
       "    </tr>\n",
       "    <tr>\n",
       "      <th>2015</th>\n",
       "      <td>43596.135537</td>\n",
       "    </tr>\n",
       "  </tbody>\n",
       "</table>\n",
       "</div>"
      ],
      "text/plain": [
       "              NY.GDP.PCAP.KD\n",
       "country year                \n",
       "Canada  2019    45113.066282\n",
       "        2018    44917.483728\n",
       "        2017    44325.488337\n",
       "        2016    43536.913403\n",
       "        2015    43596.135537"
      ]
     },
     "execution_count": 10,
     "metadata": {},
     "output_type": "execute_result"
    }
   ],
   "source": [
    "wb_data = wb.download(indicator='NY.GDP.PCAP.KD', \n",
    "                      country=['US', 'CA', 'MX'], \n",
    "                      start=1990, \n",
    "                      end=2019)\n",
    "wb_data.head()"
   ]
  },
  {
   "cell_type": "markdown",
   "metadata": {},
   "source": [
    "### OECD"
   ]
  },
  {
   "cell_type": "code",
   "execution_count": 7,
   "metadata": {},
   "outputs": [
    {
     "data": {
      "text/html": [
       "<div>\n",
       "<style scoped>\n",
       "    .dataframe tbody tr th:only-of-type {\n",
       "        vertical-align: middle;\n",
       "    }\n",
       "\n",
       "    .dataframe tbody tr th {\n",
       "        vertical-align: top;\n",
       "    }\n",
       "\n",
       "    .dataframe thead tr th {\n",
       "        text-align: left;\n",
       "    }\n",
       "\n",
       "    .dataframe thead tr:last-of-type th {\n",
       "        text-align: right;\n",
       "    }\n",
       "</style>\n",
       "<table border=\"1\" class=\"dataframe\">\n",
       "  <thead>\n",
       "    <tr>\n",
       "      <th>Country</th>\n",
       "      <th>Australia</th>\n",
       "      <th>Austria</th>\n",
       "      <th>Belgium</th>\n",
       "      <th>Canada</th>\n",
       "      <th>Czech Republic</th>\n",
       "      <th>Denmark</th>\n",
       "      <th>Finland</th>\n",
       "      <th>France</th>\n",
       "      <th>Germany</th>\n",
       "      <th>Greece</th>\n",
       "      <th>...</th>\n",
       "      <th>United States</th>\n",
       "      <th>OECD - Total</th>\n",
       "      <th>Chile</th>\n",
       "      <th>Colombia</th>\n",
       "      <th>Costa Rica</th>\n",
       "      <th>Estonia</th>\n",
       "      <th>Israel</th>\n",
       "      <th>Latvia</th>\n",
       "      <th>Lithuania</th>\n",
       "      <th>Slovenia</th>\n",
       "    </tr>\n",
       "    <tr>\n",
       "      <th>Frequency</th>\n",
       "      <th>Annual</th>\n",
       "      <th>Annual</th>\n",
       "      <th>Annual</th>\n",
       "      <th>Annual</th>\n",
       "      <th>Annual</th>\n",
       "      <th>Annual</th>\n",
       "      <th>Annual</th>\n",
       "      <th>Annual</th>\n",
       "      <th>Annual</th>\n",
       "      <th>Annual</th>\n",
       "      <th>...</th>\n",
       "      <th>Annual</th>\n",
       "      <th>Annual</th>\n",
       "      <th>Annual</th>\n",
       "      <th>Annual</th>\n",
       "      <th>Annual</th>\n",
       "      <th>Annual</th>\n",
       "      <th>Annual</th>\n",
       "      <th>Annual</th>\n",
       "      <th>Annual</th>\n",
       "      <th>Annual</th>\n",
       "    </tr>\n",
       "    <tr>\n",
       "      <th>Measure</th>\n",
       "      <th>Percentage of employees</th>\n",
       "      <th>Percentage of employees</th>\n",
       "      <th>Percentage of employees</th>\n",
       "      <th>Percentage of employees</th>\n",
       "      <th>Percentage of employees</th>\n",
       "      <th>Percentage of employees</th>\n",
       "      <th>Percentage of employees</th>\n",
       "      <th>Percentage of employees</th>\n",
       "      <th>Percentage of employees</th>\n",
       "      <th>Percentage of employees</th>\n",
       "      <th>...</th>\n",
       "      <th>Percentage of employees</th>\n",
       "      <th>Percentage of employees</th>\n",
       "      <th>Percentage of employees</th>\n",
       "      <th>Percentage of employees</th>\n",
       "      <th>Percentage of employees</th>\n",
       "      <th>Percentage of employees</th>\n",
       "      <th>Percentage of employees</th>\n",
       "      <th>Percentage of employees</th>\n",
       "      <th>Percentage of employees</th>\n",
       "      <th>Percentage of employees</th>\n",
       "    </tr>\n",
       "    <tr>\n",
       "      <th>Time</th>\n",
       "      <th></th>\n",
       "      <th></th>\n",
       "      <th></th>\n",
       "      <th></th>\n",
       "      <th></th>\n",
       "      <th></th>\n",
       "      <th></th>\n",
       "      <th></th>\n",
       "      <th></th>\n",
       "      <th></th>\n",
       "      <th></th>\n",
       "      <th></th>\n",
       "      <th></th>\n",
       "      <th></th>\n",
       "      <th></th>\n",
       "      <th></th>\n",
       "      <th></th>\n",
       "      <th></th>\n",
       "      <th></th>\n",
       "      <th></th>\n",
       "      <th></th>\n",
       "    </tr>\n",
       "  </thead>\n",
       "  <tbody>\n",
       "    <tr>\n",
       "      <th>2010-01-01</th>\n",
       "      <td>18.400000</td>\n",
       "      <td>28.900000</td>\n",
       "      <td>53.000000</td>\n",
       "      <td>27.200001</td>\n",
       "      <td>16.1</td>\n",
       "      <td>68.099998</td>\n",
       "      <td>71.400002</td>\n",
       "      <td>10.8</td>\n",
       "      <td>18.900000</td>\n",
       "      <td>22.200001</td>\n",
       "      <td>...</td>\n",
       "      <td>11.4</td>\n",
       "      <td>17.799999</td>\n",
       "      <td>13.9</td>\n",
       "      <td>9.2</td>\n",
       "      <td>12.900000</td>\n",
       "      <td>8.2</td>\n",
       "      <td>NaN</td>\n",
       "      <td>15.1</td>\n",
       "      <td>10.1</td>\n",
       "      <td>32.599998</td>\n",
       "    </tr>\n",
       "    <tr>\n",
       "      <th>2011-01-01</th>\n",
       "      <td>18.400000</td>\n",
       "      <td>28.299999</td>\n",
       "      <td>54.200001</td>\n",
       "      <td>26.900000</td>\n",
       "      <td>15.4</td>\n",
       "      <td>68.699997</td>\n",
       "      <td>69.599998</td>\n",
       "      <td>NaN</td>\n",
       "      <td>18.400000</td>\n",
       "      <td>NaN</td>\n",
       "      <td>...</td>\n",
       "      <td>11.3</td>\n",
       "      <td>17.700001</td>\n",
       "      <td>13.8</td>\n",
       "      <td>9.1</td>\n",
       "      <td>13.400000</td>\n",
       "      <td>7.0</td>\n",
       "      <td>NaN</td>\n",
       "      <td>13.7</td>\n",
       "      <td>9.7</td>\n",
       "      <td>36.700001</td>\n",
       "    </tr>\n",
       "    <tr>\n",
       "      <th>2012-01-01</th>\n",
       "      <td>18.200001</td>\n",
       "      <td>28.000000</td>\n",
       "      <td>54.099998</td>\n",
       "      <td>27.200001</td>\n",
       "      <td>14.8</td>\n",
       "      <td>69.000000</td>\n",
       "      <td>69.199997</td>\n",
       "      <td>NaN</td>\n",
       "      <td>18.299999</td>\n",
       "      <td>NaN</td>\n",
       "      <td>...</td>\n",
       "      <td>10.8</td>\n",
       "      <td>17.299999</td>\n",
       "      <td>14.4</td>\n",
       "      <td>9.1</td>\n",
       "      <td>13.100000</td>\n",
       "      <td>6.0</td>\n",
       "      <td>22.799999</td>\n",
       "      <td>13.2</td>\n",
       "      <td>9.0</td>\n",
       "      <td>26.799999</td>\n",
       "    </tr>\n",
       "    <tr>\n",
       "      <th>2013-01-01</th>\n",
       "      <td>17.000000</td>\n",
       "      <td>27.799999</td>\n",
       "      <td>53.299999</td>\n",
       "      <td>27.100000</td>\n",
       "      <td>13.6</td>\n",
       "      <td>68.800003</td>\n",
       "      <td>67.500000</td>\n",
       "      <td>11.0</td>\n",
       "      <td>18.000000</td>\n",
       "      <td>23.100000</td>\n",
       "      <td>...</td>\n",
       "      <td>10.8</td>\n",
       "      <td>17.100000</td>\n",
       "      <td>14.1</td>\n",
       "      <td>9.7</td>\n",
       "      <td>13.700000</td>\n",
       "      <td>5.6</td>\n",
       "      <td>NaN</td>\n",
       "      <td>12.9</td>\n",
       "      <td>8.4</td>\n",
       "      <td>26.200001</td>\n",
       "    </tr>\n",
       "    <tr>\n",
       "      <th>2014-01-01</th>\n",
       "      <td>15.100000</td>\n",
       "      <td>27.700001</td>\n",
       "      <td>52.900002</td>\n",
       "      <td>26.400000</td>\n",
       "      <td>12.9</td>\n",
       "      <td>68.500000</td>\n",
       "      <td>67.800003</td>\n",
       "      <td>NaN</td>\n",
       "      <td>17.700001</td>\n",
       "      <td>NaN</td>\n",
       "      <td>...</td>\n",
       "      <td>10.7</td>\n",
       "      <td>16.799999</td>\n",
       "      <td>14.6</td>\n",
       "      <td>9.6</td>\n",
       "      <td>12.400000</td>\n",
       "      <td>5.3</td>\n",
       "      <td>NaN</td>\n",
       "      <td>12.8</td>\n",
       "      <td>8.1</td>\n",
       "      <td>29.400000</td>\n",
       "    </tr>\n",
       "    <tr>\n",
       "      <th>2015-01-01</th>\n",
       "      <td>14.600000</td>\n",
       "      <td>26.900000</td>\n",
       "      <td>51.599998</td>\n",
       "      <td>26.299999</td>\n",
       "      <td>11.9</td>\n",
       "      <td>67.400002</td>\n",
       "      <td>65.699997</td>\n",
       "      <td>10.8</td>\n",
       "      <td>17.000000</td>\n",
       "      <td>19.000000</td>\n",
       "      <td>...</td>\n",
       "      <td>10.3</td>\n",
       "      <td>16.200001</td>\n",
       "      <td>16.9</td>\n",
       "      <td>9.5</td>\n",
       "      <td>19.299999</td>\n",
       "      <td>5.0</td>\n",
       "      <td>NaN</td>\n",
       "      <td>12.4</td>\n",
       "      <td>7.7</td>\n",
       "      <td>NaN</td>\n",
       "    </tr>\n",
       "    <tr>\n",
       "      <th>2016-01-01</th>\n",
       "      <td>13.700000</td>\n",
       "      <td>26.299999</td>\n",
       "      <td>50.000000</td>\n",
       "      <td>25.900000</td>\n",
       "      <td>11.4</td>\n",
       "      <td>67.500000</td>\n",
       "      <td>60.000000</td>\n",
       "      <td>NaN</td>\n",
       "      <td>16.600000</td>\n",
       "      <td>NaN</td>\n",
       "      <td>...</td>\n",
       "      <td>10.1</td>\n",
       "      <td>15.900000</td>\n",
       "      <td>16.6</td>\n",
       "      <td>NaN</td>\n",
       "      <td>19.400000</td>\n",
       "      <td>5.9</td>\n",
       "      <td>NaN</td>\n",
       "      <td>11.6</td>\n",
       "      <td>7.1</td>\n",
       "      <td>NaN</td>\n",
       "    </tr>\n",
       "    <tr>\n",
       "      <th>2017-01-01</th>\n",
       "      <td>NaN</td>\n",
       "      <td>27.400000</td>\n",
       "      <td>52.299999</td>\n",
       "      <td>26.500000</td>\n",
       "      <td>11.9</td>\n",
       "      <td>68.199997</td>\n",
       "      <td>67.500000</td>\n",
       "      <td>NaN</td>\n",
       "      <td>17.600000</td>\n",
       "      <td>NaN</td>\n",
       "      <td>...</td>\n",
       "      <td>10.6</td>\n",
       "      <td>16.500000</td>\n",
       "      <td>15.3</td>\n",
       "      <td>9.4</td>\n",
       "      <td>18.600000</td>\n",
       "      <td>4.5</td>\n",
       "      <td>NaN</td>\n",
       "      <td>12.7</td>\n",
       "      <td>7.9</td>\n",
       "      <td>23.799999</td>\n",
       "    </tr>\n",
       "    <tr>\n",
       "      <th>2018-01-01</th>\n",
       "      <td>NaN</td>\n",
       "      <td>26.700001</td>\n",
       "      <td>50.700001</td>\n",
       "      <td>26.299999</td>\n",
       "      <td>11.7</td>\n",
       "      <td>66.699997</td>\n",
       "      <td>62.900002</td>\n",
       "      <td>NaN</td>\n",
       "      <td>16.700001</td>\n",
       "      <td>NaN</td>\n",
       "      <td>...</td>\n",
       "      <td>10.3</td>\n",
       "      <td>16.000000</td>\n",
       "      <td>17.0</td>\n",
       "      <td>9.5</td>\n",
       "      <td>19.299999</td>\n",
       "      <td>4.7</td>\n",
       "      <td>25.000000</td>\n",
       "      <td>12.3</td>\n",
       "      <td>7.7</td>\n",
       "      <td>NaN</td>\n",
       "    </tr>\n",
       "    <tr>\n",
       "      <th>2019-01-01</th>\n",
       "      <td>NaN</td>\n",
       "      <td>26.299999</td>\n",
       "      <td>49.099998</td>\n",
       "      <td>26.100000</td>\n",
       "      <td>NaN</td>\n",
       "      <td>67.000000</td>\n",
       "      <td>58.799999</td>\n",
       "      <td>NaN</td>\n",
       "      <td>16.299999</td>\n",
       "      <td>NaN</td>\n",
       "      <td>...</td>\n",
       "      <td>9.9</td>\n",
       "      <td>15.800000</td>\n",
       "      <td>NaN</td>\n",
       "      <td>NaN</td>\n",
       "      <td>20.500000</td>\n",
       "      <td>6.0</td>\n",
       "      <td>NaN</td>\n",
       "      <td>NaN</td>\n",
       "      <td>7.4</td>\n",
       "      <td>NaN</td>\n",
       "    </tr>\n",
       "  </tbody>\n",
       "</table>\n",
       "<p>10 rows × 39 columns</p>\n",
       "</div>"
      ],
      "text/plain": [
       "Country                  Australia                 Austria  \\\n",
       "Frequency                   Annual                  Annual   \n",
       "Measure    Percentage of employees Percentage of employees   \n",
       "Time                                                         \n",
       "2010-01-01               18.400000               28.900000   \n",
       "2011-01-01               18.400000               28.299999   \n",
       "2012-01-01               18.200001               28.000000   \n",
       "2013-01-01               17.000000               27.799999   \n",
       "2014-01-01               15.100000               27.700001   \n",
       "2015-01-01               14.600000               26.900000   \n",
       "2016-01-01               13.700000               26.299999   \n",
       "2017-01-01                     NaN               27.400000   \n",
       "2018-01-01                     NaN               26.700001   \n",
       "2019-01-01                     NaN               26.299999   \n",
       "\n",
       "Country                    Belgium                  Canada  \\\n",
       "Frequency                   Annual                  Annual   \n",
       "Measure    Percentage of employees Percentage of employees   \n",
       "Time                                                         \n",
       "2010-01-01               53.000000               27.200001   \n",
       "2011-01-01               54.200001               26.900000   \n",
       "2012-01-01               54.099998               27.200001   \n",
       "2013-01-01               53.299999               27.100000   \n",
       "2014-01-01               52.900002               26.400000   \n",
       "2015-01-01               51.599998               26.299999   \n",
       "2016-01-01               50.000000               25.900000   \n",
       "2017-01-01               52.299999               26.500000   \n",
       "2018-01-01               50.700001               26.299999   \n",
       "2019-01-01               49.099998               26.100000   \n",
       "\n",
       "Country             Czech Republic                 Denmark  \\\n",
       "Frequency                   Annual                  Annual   \n",
       "Measure    Percentage of employees Percentage of employees   \n",
       "Time                                                         \n",
       "2010-01-01                    16.1               68.099998   \n",
       "2011-01-01                    15.4               68.699997   \n",
       "2012-01-01                    14.8               69.000000   \n",
       "2013-01-01                    13.6               68.800003   \n",
       "2014-01-01                    12.9               68.500000   \n",
       "2015-01-01                    11.9               67.400002   \n",
       "2016-01-01                    11.4               67.500000   \n",
       "2017-01-01                    11.9               68.199997   \n",
       "2018-01-01                    11.7               66.699997   \n",
       "2019-01-01                     NaN               67.000000   \n",
       "\n",
       "Country                    Finland                  France  \\\n",
       "Frequency                   Annual                  Annual   \n",
       "Measure    Percentage of employees Percentage of employees   \n",
       "Time                                                         \n",
       "2010-01-01               71.400002                    10.8   \n",
       "2011-01-01               69.599998                     NaN   \n",
       "2012-01-01               69.199997                     NaN   \n",
       "2013-01-01               67.500000                    11.0   \n",
       "2014-01-01               67.800003                     NaN   \n",
       "2015-01-01               65.699997                    10.8   \n",
       "2016-01-01               60.000000                     NaN   \n",
       "2017-01-01               67.500000                     NaN   \n",
       "2018-01-01               62.900002                     NaN   \n",
       "2019-01-01               58.799999                     NaN   \n",
       "\n",
       "Country                    Germany                  Greece  ...  \\\n",
       "Frequency                   Annual                  Annual  ...   \n",
       "Measure    Percentage of employees Percentage of employees  ...   \n",
       "Time                                                        ...   \n",
       "2010-01-01               18.900000               22.200001  ...   \n",
       "2011-01-01               18.400000                     NaN  ...   \n",
       "2012-01-01               18.299999                     NaN  ...   \n",
       "2013-01-01               18.000000               23.100000  ...   \n",
       "2014-01-01               17.700001                     NaN  ...   \n",
       "2015-01-01               17.000000               19.000000  ...   \n",
       "2016-01-01               16.600000                     NaN  ...   \n",
       "2017-01-01               17.600000                     NaN  ...   \n",
       "2018-01-01               16.700001                     NaN  ...   \n",
       "2019-01-01               16.299999                     NaN  ...   \n",
       "\n",
       "Country              United States            OECD - Total  \\\n",
       "Frequency                   Annual                  Annual   \n",
       "Measure    Percentage of employees Percentage of employees   \n",
       "Time                                                         \n",
       "2010-01-01                    11.4               17.799999   \n",
       "2011-01-01                    11.3               17.700001   \n",
       "2012-01-01                    10.8               17.299999   \n",
       "2013-01-01                    10.8               17.100000   \n",
       "2014-01-01                    10.7               16.799999   \n",
       "2015-01-01                    10.3               16.200001   \n",
       "2016-01-01                    10.1               15.900000   \n",
       "2017-01-01                    10.6               16.500000   \n",
       "2018-01-01                    10.3               16.000000   \n",
       "2019-01-01                     9.9               15.800000   \n",
       "\n",
       "Country                      Chile                Colombia  \\\n",
       "Frequency                   Annual                  Annual   \n",
       "Measure    Percentage of employees Percentage of employees   \n",
       "Time                                                         \n",
       "2010-01-01                    13.9                     9.2   \n",
       "2011-01-01                    13.8                     9.1   \n",
       "2012-01-01                    14.4                     9.1   \n",
       "2013-01-01                    14.1                     9.7   \n",
       "2014-01-01                    14.6                     9.6   \n",
       "2015-01-01                    16.9                     9.5   \n",
       "2016-01-01                    16.6                     NaN   \n",
       "2017-01-01                    15.3                     9.4   \n",
       "2018-01-01                    17.0                     9.5   \n",
       "2019-01-01                     NaN                     NaN   \n",
       "\n",
       "Country                 Costa Rica                 Estonia  \\\n",
       "Frequency                   Annual                  Annual   \n",
       "Measure    Percentage of employees Percentage of employees   \n",
       "Time                                                         \n",
       "2010-01-01               12.900000                     8.2   \n",
       "2011-01-01               13.400000                     7.0   \n",
       "2012-01-01               13.100000                     6.0   \n",
       "2013-01-01               13.700000                     5.6   \n",
       "2014-01-01               12.400000                     5.3   \n",
       "2015-01-01               19.299999                     5.0   \n",
       "2016-01-01               19.400000                     5.9   \n",
       "2017-01-01               18.600000                     4.5   \n",
       "2018-01-01               19.299999                     4.7   \n",
       "2019-01-01               20.500000                     6.0   \n",
       "\n",
       "Country                     Israel                  Latvia  \\\n",
       "Frequency                   Annual                  Annual   \n",
       "Measure    Percentage of employees Percentage of employees   \n",
       "Time                                                         \n",
       "2010-01-01                     NaN                    15.1   \n",
       "2011-01-01                     NaN                    13.7   \n",
       "2012-01-01               22.799999                    13.2   \n",
       "2013-01-01                     NaN                    12.9   \n",
       "2014-01-01                     NaN                    12.8   \n",
       "2015-01-01                     NaN                    12.4   \n",
       "2016-01-01                     NaN                    11.6   \n",
       "2017-01-01                     NaN                    12.7   \n",
       "2018-01-01               25.000000                    12.3   \n",
       "2019-01-01                     NaN                     NaN   \n",
       "\n",
       "Country                  Lithuania                Slovenia  \n",
       "Frequency                   Annual                  Annual  \n",
       "Measure    Percentage of employees Percentage of employees  \n",
       "Time                                                        \n",
       "2010-01-01                    10.1               32.599998  \n",
       "2011-01-01                     9.7               36.700001  \n",
       "2012-01-01                     9.0               26.799999  \n",
       "2013-01-01                     8.4               26.200001  \n",
       "2014-01-01                     8.1               29.400000  \n",
       "2015-01-01                     7.7                     NaN  \n",
       "2016-01-01                     7.1                     NaN  \n",
       "2017-01-01                     7.9               23.799999  \n",
       "2018-01-01                     7.7                     NaN  \n",
       "2019-01-01                     7.4                     NaN  \n",
       "\n",
       "[10 rows x 39 columns]"
      ]
     },
     "execution_count": 7,
     "metadata": {},
     "output_type": "execute_result"
    }
   ],
   "source": [
    "df = web.DataReader('TUD', 'oecd', start='2010', end='2019')\n",
    "# df[['Japan', 'United States']]\n",
    "df"
   ]
  }
 ],
 "metadata": {
  "kernelspec": {
   "display_name": ".venv",
   "language": "python",
   "name": "python3"
  },
  "language_info": {
   "codemirror_mode": {
    "name": "ipython",
    "version": 3
   },
   "file_extension": ".py",
   "mimetype": "text/x-python",
   "name": "python",
   "nbconvert_exporter": "python",
   "pygments_lexer": "ipython3",
   "version": "3.8.1"
  }
 },
 "nbformat": 4,
 "nbformat_minor": 2
}
