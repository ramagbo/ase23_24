{
 "cells": [
  {
   "cell_type": "markdown",
   "metadata": {},
   "source": [
    "# Week 4: Probability"
   ]
  },
  {
   "cell_type": "markdown",
   "metadata": {},
   "source": [
    "## Probability models and axioms\n",
    "This week you'll learn the basic concepts of probability.\n",
    "\n",
    "### Reminder\n",
    "#### Sample space \n",
    "```{margin} List must be \n",
    "- Mutually exclusive\n",
    "- collectively exhaustive\n",
    "- at the \"right\" granularity\n",
    "```\n",
    "- List **set** of possible outcomes, $\\Omega$ \n",
    "\n",
    "- Describe beliefs about likelihood of outcomes\n"
   ]
  },
  {
   "cell_type": "markdown",
   "metadata": {},
   "source": [
    "#### Probability axioms\n",
    "::::{important}\n",
    "**Event:** a subset of the sample space\n",
    "\n",
    "- Probability is assigned to events\n",
    "\n",
    "::::\n",
    "\n",
    "::::{important}\n",
    "**Axioms:** \n",
    "\n",
    "- Non-negativity: $P(A) \\geq 0$\n",
    "- Normalization: $P(\\Omega) = 1$\n",
    "- (Finite) additivity: $if \\quad A \\cap B = \\emptyset , \\quad then \\quad P(A \\cup B) = P(A) + P(B)$\n",
    "\n",
    "::::\n",
    "\n",
    "::::{important}\n",
    "**Consequences of the axioms:** \n",
    "\n",
    "- $P(A) \\leq 1$\n",
    "- $P(\\emptyset) = 0$\n",
    "\n",
    "For disjoint events:\n",
    "- $P(A \\cup B) = P(A) + P(B)$\n",
    "- $P(A) + P(A^c) = 1$\n",
    "\n",
    "Inclusion-exclusion principle\n",
    "- $P(A \\cup B) = P(A) + P(B) - P(A \\cap B)$\n",
    "\n",
    "::::\n",
    "\n",
    "![overlap](../overlap.png)"
   ]
  },
  {
   "cell_type": "markdown",
   "metadata": {},
   "source": [
    "Q7.\n",
    "\n",
    "Suppose you toss a fair coin three times in a row. What is the probability of:\n",
    "\n",
    "The probability distribution of the random variable X in a fair coin toss experiment follows a Bernoulli distribution. In a Bernoulli distribution, there are only two possible outcomes (success or failure), and it is characterized by a single parameter, p, which represents the probability of success (in this case, the probability of getting Heads).\n",
    "\n",
    "In a Bernouli experiment involving a tossed coin;\n",
    "\n",
    "P(H) = p and  P(T) = 1-p where p is the probability of showing head\n",
    "\n",
    "\n",
    "This experiment involves a fair coin and so P(H) = P(T) = 0.5\n",
    "\n",
    "**Three tosses of an unbaised coin**\n",
    "\n",
    "![tree](../coin_toss.png)\n",
    "\n",
    "\n",
    "$\\Omega = \\{HHH, HHT, HTH, HTT, THH, THT, TTH, TTT\\}$\n",
    "\n",
    "- Multiplication rule:\n",
    "P(THT) = (1-p)p(1-p)\n",
    "\n",
    "\n"
   ]
  },
  {
   "cell_type": "markdown",
   "metadata": {},
   "source": [
    "`````{topic} (a)\tthree heads in a row;\n",
    "$P(HHH) = p^3 = {\\frac{1}{2}}^3$\n",
    "`````\n"
   ]
  },
  {
   "cell_type": "markdown",
   "metadata": {},
   "source": [
    "`````{topic} (b)\ta tail followed by two heads.\n",
    "$P(THH) = (1-p)p^2 = {\\frac{1}{2}}^3$\n",
    "`````"
   ]
  },
  {
   "cell_type": "markdown",
   "metadata": {},
   "source": [
    "`````{topic} (c) at least one tail in the three throws.\n",
    "\n",
    "$P(HHT) + P(HTH) + P(HTT) + P(THH) + P(THT) + P(TTH) + P(TTT) = 7 \\times {\\frac{1}{2}}^3$\n",
    "\n",
    "It is alos easy to see that this amounts to: \n",
    "\n",
    "$1 - P(HHH) = 1 - {\\frac{1}{2}}^3$\n",
    "`````\n",
    "\n"
   ]
  },
  {
   "cell_type": "markdown",
   "metadata": {},
   "source": [
    "\n",
    "\n",
    ":::{note}\n",
    "**Mutually exclusive:** \n",
    "- If events A and B are mutually exclusive, it means that they cannot happen simultaneously.\n",
    "- The probability of both mutually exclusive events occurring together is always zero, meaning that $P(A \\cap B) = 0$.\n",
    ":::\n",
    "\n",
    "\n",
    ":::{note}\n",
    "**Independent:** \n",
    "- Refers to the concept that two or more events are not influenced by each other.\n",
    "- If events A and B are independent, it means that $P(A \\cap B) = P(A) \\times P(B)$.\n",
    ":::\n"
   ]
  },
  {
   "cell_type": "markdown",
   "metadata": {},
   "source": [
    "`````{topic} Q8.\n",
    "\n",
    "Students take two exams A and B. 60% pass A, 80% pass B, 50% pass both.\n",
    "\n",
    "$$\\begin{aligned}[]\n",
    "\\begin{array}{|l|l|l|l|}\n",
    "\\hline\n",
    "   & PA & FA & B   \\\\ \\hline\n",
    "PB & 50 &  & 80  \\\\ \\hline\n",
    "FB &  &  &   \\\\ \\hline\n",
    "A  & 60 &  & 100 \\\\ \\hline\n",
    "\\end{array}\n",
    "\\end{aligned}$$\n",
    "`````"
   ]
  },
  {
   "cell_type": "markdown",
   "metadata": {},
   "source": [
    "`````{topic} ( a) Fill in the remaining five elements of the joint and marginal distributions below, where PA indicates pass A, FB fail B, etc. \n",
    "\n",
    "\n",
    "$$\\begin{aligned}[]\n",
    "\\begin{array}{|l|l|l|l|}\n",
    "\\hline\n",
    "   & PA & FA & B   \\\\ \\hline\n",
    "PB & 50 & 30 & 80  \\\\ \\hline\n",
    "FB & 10 & 10 & 20  \\\\ \\hline\n",
    "A  & 60 & 40 & 100 \\\\ \\hline\n",
    "\\end{array}\n",
    "\\end{aligned}$$\n",
    "\n",
    "`````"
   ]
  },
  {
   "cell_type": "markdown",
   "metadata": {},
   "source": [
    "`````{topic} (b)\tWhat is the probability of a student passing B given that they passed A\n",
    "\n",
    "$$\n",
    "    P(B|A) = \\frac{P(A \\cap B)}{P(A)} = \\frac{50}{60} = \\frac{5}{6}\n",
    "$$\n",
    "`````\n"
   ]
  },
  {
   "cell_type": "markdown",
   "metadata": {},
   "source": [
    "`````{topic} (c) Are the two events passing A and passing B : (i) mutually exclusive \n",
    "\n",
    "${P(A \\cap B)} = 50 \\neq 0$; \n",
    "- they are not mutually exclusive\n",
    "`````\n",
    "\n",
    "\n",
    "`````{topic} (ii) independent?\n",
    "\n",
    "$P(A) \\times P(B) = 0.6 \\times 0.8 = 0.48 \\neq 0.5 = P(A) \\times P(B)$\n",
    "\n",
    "- they are not independent.\n",
    "`````\n"
   ]
  },
  {
   "attachments": {},
   "cell_type": "markdown",
   "metadata": {},
   "source": [
    "**Q9.** \n",
    "\n",
    "**Define P(A) as the probability of event A happening; P(B) the probability of event B happening; $P(A \\cap B)$ the probability of both A and B happening; $P(A \\cup B)$ the probability of either A or B happening; and P(A | B) the probability of A happening conditional on B already having happened.**"
   ]
  },
  {
   "cell_type": "markdown",
   "metadata": {},
   "source": [
    "`````{topic} (a)\tWhat is $P(A \\cap B)$ if A and B are mutually exclusive.\n",
    "\n",
    "`````\n"
   ]
  },
  {
   "cell_type": "markdown",
   "metadata": {},
   "source": [
    "`````{topic} (b)\tWhat is $P(A \\cap B)$ if A and B are independent?\n",
    "\n",
    "`````\n"
   ]
  },
  {
   "cell_type": "markdown",
   "metadata": {},
   "source": [
    "`````{topic} (c)\tWhat is $P(A \\cup B)$?\n",
    "\n",
    "$P(A \\cup B) = P(A) + P(B) + P(A \\cap B)$\n",
    "`````\n",
    "\n",
    "\n"
   ]
  },
  {
   "cell_type": "markdown",
   "metadata": {},
   "source": [
    "`````{topic} (d)\tShow that \n",
    "$$\n",
    "    P(A|B) = \\frac{P(A | B)P(A)}{P(B)}\n",
    "$$\n",
    "`````\n",
    "\n",
    "\n",
    "`````{topic}  We have it that:\n",
    "\n",
    "$$\n",
    "    P(A|B) = \\frac{P(A \\cap B)}{P(B)}\n",
    "$$(eq1)\n",
    "\n",
    "and: \n",
    "\n",
    "$$\n",
    "    P(B|A) = \\frac{P(A \\cap B)}{P(A)}\n",
    "$$(eq2)\n",
    "\n",
    "Multipy both sides of  equation (1) by P(B) and both sides of (2) by P(A), and rearrange to give:\n",
    "\n",
    "$$\n",
    "    {P(A \\cap B)}= P(B|A)P(A) = P(A|B)P(B)\n",
    "$$\n",
    "\n",
    "the joint probability is the product of the conditional probability and the marginal probability in each case. \n",
    "\n",
    "Divide the second and third terms by P (B) and we get Bayes Theorem:\n",
    "`````"
   ]
  },
  {
   "attachments": {},
   "cell_type": "markdown",
   "metadata": {},
   "source": [
    "**QlO.** \n",
    "\n",
    "**You are in a US quiz show. The host shows you three closed boxes in one of which there is a prize. The host knows which box the prize is in, you do not. You choose a box. The host then opens another box, not the one you chose, and shows that it is empty. He can always do this. You can either stick with the box you originally chose or change to the other unopened box. What should you do: stick or change? What is the probability that the prize is in the other unopened box?**\n",
    "\n",
    "`````{topic} This is called the Monty Hall problem\n",
    "\n",
    "This images was taken from wikipedia where they have an extensive explanation of the problem\n",
    "\n",
    "![monty](../monty.png)\n",
    "\n",
    "This is seemingly easier?\n",
    "\n",
    "$$\\begin{aligned}[]\n",
    "\\begin{array}{|l|l|l|l|}\n",
    "\\hline\n",
    "You Pick & Prize Door & Don’t Switch  & Switch        \\\\ \\hline\n",
    "1        & 1          & Win           & Lose          \\\\ \\hline\n",
    "1        & 2          & Lose          & Win           \\\\ \\hline\n",
    "1        & 3          & Lose          & Win           \\\\ \\hline\n",
    "2        & 1          & Lose          & Win           \\\\ \\hline\n",
    "2        & 2          & Win           & Lose          \\\\ \\hline\n",
    "2        & 3          & Lose          & Win           \\\\ \\hline\n",
    "3        & 1          & Lose          & Win           \\\\ \\hline\n",
    "3        & 2          & Lose          & Win           \\\\ \\hline\n",
    "3        & 3          & Win           & Lose          \\\\ \\hline\n",
    "         &            & 3 Wins (33\\%) & 6 Wins (66\\%) \\\\ \\hline\n",
    "\\end{array}\n",
    "\\end{aligned}$$\n",
    "\n",
    "\n",
    "It can also be shown by Bayes theorem. Let $W_A$ be the event that the prize\n",
    "is in box A, etc. Let $H_A$ be the event that the host opens box A, etc. Suppose\n",
    "you choose box A. The probability that you win the prize if you switch is the\n",
    "probability that the prize is in B and the host opened C plus the probability\n",
    "that the prize is in C and the host opened B\n",
    "\n",
    "$$\\begin{align*}\n",
    "&=P(W_B \\cap H_C) + P(W_C \\cap H_B)\\\\\n",
    "&=P(W_B)P(H_c | W_B) + P(W_C)P(H_B|W_C)\\\\\n",
    "&=\\frac{1}{3} \\times 1 + \\frac{1}{3} \\times 1  = \\frac{2}{3}\n",
    "\\end{align*}$$\n",
    "\n",
    "``````"
   ]
  },
  {
   "cell_type": "markdown",
   "metadata": {},
   "source": [
    "Qll. (Optional). \n",
    "\n",
    "Calculate the probability that two people in a group of size N will have the same birthday. What size group do you need for there to be a 50% chance that two people will have the same birthday?Ignore leap years.\n"
   ]
  }
 ],
 "metadata": {
  "kernelspec": {
   "display_name": ".jupiter-book",
   "language": "python",
   "name": "python3"
  },
  "language_info": {
   "codemirror_mode": {
    "name": "ipython",
    "version": 3
   },
   "file_extension": ".py",
   "mimetype": "text/x-python",
   "name": "python",
   "nbconvert_exporter": "python",
   "pygments_lexer": "ipython3",
   "version": "3.9.7 (default, Apr 16 2022, 20:06:51) \n[Clang 13.0.0 (clang-1300.0.29.30)]"
  },
  "vscode": {
   "interpreter": {
    "hash": "9f8b63738a5e9969a8d3ade878de4e0c946153da556018f6acbc83a75530bfb9"
   }
  }
 },
 "nbformat": 4,
 "nbformat_minor": 2
}
