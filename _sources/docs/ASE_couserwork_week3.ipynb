{
 "cells": [
  {
   "cell_type": "markdown",
   "metadata": {},
   "source": [
    "# Week 3: Index Numbers"
   ]
  },
  {
   "cell_type": "markdown",
   "metadata": {},
   "source": [
    "## Index numbers and economic data\n",
    "This week you'll learn how to work with index numbers and understand how the two main economic statistics (GDP and Inflation) are calculated.\n",
    "\n",
    "[Measuring the economy]( https://www.measuringtheeconomy.uk/)\n",
    "\n",
    "### Reminder\n",
    "-   Growth rate \n",
    "\n",
    "We saw in week 1 that the growth over a period $(t-1, t)$ is calculated such that \n",
    "\n",
    "$$\n",
    "   g =  \\frac{X_t - X_{t-1}}{X_{t-1}}\n",
    "$$\n",
    "\n"
   ]
  },
  {
   "cell_type": "markdown",
   "metadata": {},
   "source": [
    "### Index of prices \n",
    "Growth rate of prices: Inflation \n",
    "\n",
    "$$\n",
    "   Inflation =  \\frac{P_t - P_{t-1}}{P_{t-1}} * 100\n",
    "$$\n"
   ]
  },
  {
   "cell_type": "markdown",
   "metadata": {},
   "source": [
    "### Index of Quantities (Real GDP)\n",
    "\n",
    "$$\n",
    "   GDP growth =  \\frac{Q_t - Q_{t-1}}{Q_{t-1}} * 100\n",
    "$$"
   ]
  },
  {
   "cell_type": "markdown",
   "metadata": {},
   "source": [
    "### Expenditure\n",
    "\n",
    "$$\n",
    "E_t = \\sum_{i=1}^N {P_{i,t}Q_{i,t}} \\quad t= 0,1; \\quad  i= A,b\n",
    "$$\n"
   ]
  },
  {
   "cell_type": "markdown",
   "metadata": {},
   "source": [
    "\n",
    "### Quantity Index\n",
    "Constant price GDP base year(0): \n",
    "\n",
    "In this formulation, the quantities vary and the prices are benchmarked to the base year (0)\n",
    "\n",
    "$$\n",
    "Q_t = \\sum_{i=1}^N {P_{i,0}Q_{i,t}} \n",
    "$$\n"
   ]
  },
  {
   "cell_type": "markdown",
   "metadata": {},
   "source": [
    "(content:references:labels)=\n",
    "### Price Index\n",
    "The price index also called GDP deflator is calculated as current price GDP over Constant price GDP:\n",
    "\n",
    "- Paasche\n",
    "\n",
    "$$\n",
    "   P_t =  \\frac{E_t}{E_{0}} = \\frac{\\sum_{i=1}^N {P_{i,t}Q_{i,t}}}{\\sum_{i=1}^N {P_{i,0}Q_{i,t}}}\n",
    "$$\n",
    "\n",
    "- Laspeyres\n",
    "\n",
    "$$\n",
    "   P_t =  \\frac{E_t}{E_{0}} = \\frac{\\sum_{i=1}^N {P_{i,t}Q_{i,0}}}{\\sum_{i=1}^N {P_{0,t}Q_{i,0}}}\n",
    "$$"
   ]
  },
  {
   "cell_type": "markdown",
   "metadata": {},
   "source": [
    "`````{topic} Q5. A firm buys two goods A and B in two years. The table below shows the price and quantity of each purchased in year zero and one. \n",
    "\n",
    "$$\\begin{aligned}[]\n",
    "\\begin{array}{|l|l|l|l|l|}\n",
    "\\hline\n",
    "     & Year \\_   0  &            & Year \\_   1  &            \\\\ \\hline\n",
    "Good & P_{i,0} & Q_{i,0} & P_{i,1} & Q\\_{i,1} \\\\ \\hline\n",
    "A    & 20         & 10         & 10         & 20         \\\\ \\hline\n",
    "B    & 10         & 20         & 20         & 10         \\\\ \\hline\n",
    "\\end{array}\n",
    "\\end{aligned}$$\n",
    "``````"
   ]
  },
  {
   "cell_type": "markdown",
   "metadata": {},
   "source": [
    "`````{topic} a) What total expenditure $\\sum_{i=1}^N {P_{i,t}Q_{i,t}}$ , in each year $t = 0,1,$ where $i = A, B$\n",
    "\n",
    "    \n",
    "``````"
   ]
  },
  {
   "cell_type": "markdown",
   "metadata": {},
   "source": [
    "$E_o = (P_{A,0} * Q_{A,0})  + (P_{B,0} * Q_{B,0})$  "
   ]
  },
  {
   "cell_type": "code",
   "execution_count": 1,
   "metadata": {},
   "outputs": [
    {
     "data": {
      "text/plain": [
       "400"
      ]
     },
     "execution_count": 1,
     "metadata": {},
     "output_type": "execute_result"
    }
   ],
   "source": [
    "(20 * 10) + (10 *20)"
   ]
  },
  {
   "cell_type": "markdown",
   "metadata": {},
   "source": [
    "$E_1 = (P_{A,1} * Q_{A,1})  + (P_{B,1} * Q_{B,1})$  \n",
    "\n",
    "Here to  {ref}`price-table`"
   ]
  },
  {
   "cell_type": "code",
   "execution_count": 2,
   "metadata": {},
   "outputs": [
    {
     "data": {
      "text/plain": [
       "400"
      ]
     },
     "execution_count": 2,
     "metadata": {},
     "output_type": "execute_result"
    }
   ],
   "source": [
    "(10 * 20) + (20 * 10)"
   ]
  },
  {
   "cell_type": "markdown",
   "metadata": {},
   "source": [
    "`````{topic} b) What would have been its total expenditure in each year if in both years it had bought \n",
    "\n",
    "**(i) year zero quantities**\n",
    " - Year 0 \n",
    "\n",
    "\n",
    "$E_o = (P_{A,0} * Q_{A,0})  + (P_{B,0} * Q_{B,0})$   \n",
    "\n"
   ]
  },
  {
   "cell_type": "markdown",
   "metadata": {},
   "source": [
    "Here to  {ref}`price-table`"
   ]
  },
  {
   "cell_type": "code",
   "execution_count": 4,
   "metadata": {},
   "outputs": [
    {
     "data": {
      "text/plain": [
       "400"
      ]
     },
     "execution_count": 4,
     "metadata": {},
     "output_type": "execute_result"
    }
   ],
   "source": [
    "(20 * 10) + (10 *20)"
   ]
  },
  {
   "cell_type": "markdown",
   "metadata": {},
   "source": [
    "- Year 1 \n",
    "\n",
    "$E_1 = (P_{A,1} * Q_{A,0})  + (P_{B,1} * Q_{B,0})$  "
   ]
  },
  {
   "cell_type": "markdown",
   "metadata": {},
   "source": [
    "Here to  {ref}`price-table`"
   ]
  },
  {
   "cell_type": "code",
   "execution_count": 3,
   "metadata": {},
   "outputs": [
    {
     "data": {
      "text/plain": [
       "500"
      ]
     },
     "execution_count": 3,
     "metadata": {},
     "output_type": "execute_result"
    }
   ],
   "source": [
    "(10 * 10) + (20 *20)"
   ]
  },
  {
   "cell_type": "markdown",
   "metadata": {},
   "source": [
    "**(ii) year one quantities**\n",
    " - Year 0 \n",
    "\n",
    "\n",
    "$E_o = (P_{A,0} * Q_{A,1})  + (P_{B,0} * Q_{B,1})$   \n",
    "\n",
    "Here to  {ref}`price-table`"
   ]
  },
  {
   "cell_type": "code",
   "execution_count": 5,
   "metadata": {},
   "outputs": [
    {
     "data": {
      "text/plain": [
       "500"
      ]
     },
     "execution_count": 5,
     "metadata": {},
     "output_type": "execute_result"
    }
   ],
   "source": [
    "(20 *20) + (10 * 10)"
   ]
  },
  {
   "cell_type": "markdown",
   "metadata": {},
   "source": [
    "- Year 1 \n",
    "\n",
    "$E_1 = (P_{A,1} * Q_{A,1})  + (P_{B,1} * Q_{B,1})$ \n",
    "\n",
    "Here to  {ref}`price-table`"
   ]
  },
  {
   "cell_type": "code",
   "execution_count": 6,
   "metadata": {},
   "outputs": [
    {
     "data": {
      "text/plain": [
       "400"
      ]
     },
     "execution_count": 6,
     "metadata": {},
     "output_type": "execute_result"
    }
   ],
   "source": [
    "(10 * 20) + (20 * 10)"
   ]
  },
  {
   "cell_type": "markdown",
   "metadata": {},
   "source": [
    "`````{topic}  (c) Use the estimates in (b) to calculate two measure of inflation\n",
    "\n",
    "**(i) using year zero quantities**\n",
    "\n",
    "$$\n",
    "Infation =  \\frac{E_1}{E_{0}} - 1\n",
    "$$\n",
    "``````"
   ]
  },
  {
   "cell_type": "code",
   "execution_count": 11,
   "metadata": {},
   "outputs": [
    {
     "data": {
      "text/plain": [
       "25.0"
      ]
     },
     "execution_count": 11,
     "metadata": {},
     "output_type": "execute_result"
    }
   ],
   "source": [
    "((500 / 400) - 1) * 100"
   ]
  },
  {
   "cell_type": "markdown",
   "metadata": {},
   "source": [
    "\n",
    "```{note}\n",
    "using year 0 quantities as weights, there is 25% inflation\n",
    "```"
   ]
  },
  {
   "cell_type": "markdown",
   "metadata": {},
   "source": [
    "**(ii) using year one quantities**"
   ]
  },
  {
   "cell_type": "code",
   "execution_count": 12,
   "metadata": {},
   "outputs": [
    {
     "data": {
      "text/plain": [
       "-19.999999999999996"
      ]
     },
     "execution_count": 12,
     "metadata": {},
     "output_type": "execute_result"
    }
   ],
   "source": [
    "((400 / 500) - 1) * 100"
   ]
  },
  {
   "cell_type": "markdown",
   "metadata": {},
   "source": [
    "```{warning}\n",
    "this is not exactly the number we're looking for but we can leave with this for now\n",
    "```"
   ]
  },
  {
   "cell_type": "markdown",
   "metadata": {},
   "source": [
    "```{note}\n",
    "using year 1 quantities as weights, there is deflation of 20% or -20% inflation\n",
    "```"
   ]
  },
  {
   "cell_type": "markdown",
   "metadata": {},
   "source": [
    "`````{topic}  (d) Comment on your results.\n",
    "\n",
    "\n",
    ":     There is strong substitution from good B, that increases in price, to good A, that falls in price. Year one quantities reﬂect that substitution and give little weight to the good that increased in price and a lot of weight to the good that fell in price so show prices falling. When you weight by year zero quantities you do not reﬂect the substitution and give a big weight to the good that rose in price.\n",
    "``````"
   ]
  },
  {
   "cell_type": "markdown",
   "metadata": {},
   "source": [
    "`````{topic}  (e) Consider the three indexes below. Explain which one is a price index, which one a quantity index and which one is an expenditure index. Interpret the relationship between them. \n",
    "\n",
    "\n",
    "$$\n",
    "\\frac{\\sum_{i=1}^N {P_{i,1}Q_{i,1}}}{\\sum_{i=1}^N {P_{i,0}Q_{i,0}}} = \\frac{\\sum_{i=1}^N {P_{i,1}Q_{i,0}}}{\\sum_{i=1}^N {P_{i,0}Q_{i,0}}} \\times \\frac{\\sum_{i=1}^N {P_{i,1}Q_{i,1}}}{\\sum_{i=1}^N {P_{i,1}Q_{i,0}}}\n",
    "$$\n",
    "\n",
    "\n",
    ":     The left hand side is an expenditure index and it is equal to the ﬁrst term, a (Laspeyres) price index with year zero quantities as weights, times the second term, a (Paasche) quantity index with year one prices as weights. \n",
    "``````\n",
    "{ref}`content:references:labels`"
   ]
  },
  {
   "cell_type": "markdown",
   "metadata": {},
   "source": [
    "`````{topic} Q6. UK GDP in current market prices in 1995 was £712,548m, while in 1997 it was £801,972m. GDP at constant 1995 market prices in 1997 was £756,144m.\n",
    "$$\\begin{aligned}[]\n",
    "\\begin{array}{|l|l|l|}\n",
    "\\hline\n",
    "     & Current & Constant \\\\ \\hline\n",
    "1995 & 712548  & 712548   \\\\ \\hline\n",
    "1997 & 801972  & 756144   \\\\ \\hline\n",
    "\\end{array}\n",
    "\\end{aligned}$$\n",
    "`````\n"
   ]
  },
  {
   "cell_type": "markdown",
   "metadata": {},
   "source": [
    "`````{topic}  (a) Construct index numbers, 1995=100 for: \n",
    "\n",
    "current price GDp; \n",
    "\n",
    "$$\n",
    "   P_{curr} =  \\frac{E_t}{E_{0}} = \\frac{\\sum_{i=1}^N {P_{i,t}Q_{i,t}}}{\\sum_{i=1}^N {P_{i,0}Q_{i,0}}} \\times 100\n",
    "$$\n",
    "\n",
    "\n",
    "constant price GDP; \n",
    "\n",
    "$$\n",
    "   P_{const} =  \\frac{E_t}{E_{0}} = \\frac{\\sum_{i=1}^N {P_{i,0}Q_{i,t}}}{\\sum_{i=1}^N {P_{i,0}Q_{i,0}}} \\times 100\n",
    "$$\n",
    "\n",
    "\n",
    "and the GDP deflator. \n",
    "\n",
    "$$\n",
    "   P_t =  \\frac{E_t}{E_{0}} = \\frac{\\sum_{i=1}^N {P_{i,0}Q_{i,t}}}{\\sum_{i=1}^N {P_{i,0}Q_{i,t}}} \\times 100\n",
    "$$\n",
    "``````\n",
    "{ref}`content:references:labels`"
   ]
  },
  {
   "cell_type": "markdown",
   "metadata": {},
   "source": [
    "`````{topic} (b) From these numbers calculate the average annual rate of inflation be­tween 1995 and 1997. \n",
    "\n",
    "- Index numbers for 1997\n",
    "\n",
    "current price GDp; \n",
    "\n",
    "$$\n",
    "   P_{curr} =  \\frac{801972}{712548}  \\times 100\n",
    "$$\n",
    "\n",
    "\n",
    "constant price GDP; \n",
    "\n",
    "$$\n",
    "   P_{const} =  \\frac{756144}{712548} \\times 100\n",
    "$$\n",
    "\n",
    "and the GDP deflator. \n",
    "\n",
    "$$\n",
    "   P_t =  \\frac{112.55 }{106.12} \\times 100\n",
    "$$\n",
    "\n",
    "$$\\begin{aligned}[]\n",
    "\\begin{array}{|l|l|l|l|}\n",
    "\\hline\n",
    "year & Current \\_GDP & Constant\\_ GDP & GDP\\_ Deflator \\\\ \\hline\n",
    "1995 & 100         & 100          & 100          \\\\ \\hline\n",
    "1997 & 112.55      & 106.11  & 106.06  \\\\ \\hline\n",
    "\\end{array}\n",
    "\\end{aligned}$$\n",
    "\n",
    "``````\n",
    "\n",
    "```{Note}\n",
    "Because 1995 is the base year, 1995=100\n",
    "```"
   ]
  },
  {
   "cell_type": "markdown",
   "metadata": {},
   "source": [
    "`````{topic} (c) From these numbers calculate the average annual rate of growth between 1995 and 1997. \n",
    "\n",
    "\n",
    "- The average annual rate of inflation between 1995 and 1997\n",
    "\n",
    "$$\n",
    "Inflation_{avg} = \\frac{Inf_{1997} - Inf_{1995}}{2}\n",
    "$$\n",
    "\n",
    "\n",
    "$$\\begin{aligned}[]\n",
    "\\begin{array}{|l|l|l|l|}\n",
    "\\hline\n",
    "                         & Current\\_ GDP & Constant\\_ GDP & GDP\\_ Deflator \\\\ \\hline\n",
    "Average\\_ annual\\_ inflation & 6.27        & 3.06         & 3.03         \\\\ \\hline\n",
    "\\end{array}\n",
    "\\end{aligned}$$\n",
    "``````\n",
    "\n",
    "\n",
    "```{Note} There are two years between 1997 and 1995\n",
    "```\n"
   ]
  },
  {
   "cell_type": "markdown",
   "metadata": {},
   "source": [
    "`````{topic} (d) If the interest rate on two year bonds in 1995 was 10% per annum what would the real per annum interest rate over this period be. \n",
    "\n",
    "$10 - 3.03 \\approx 7$%\n",
    "``````"
   ]
  }
 ],
 "metadata": {
  "kernelspec": {
   "display_name": ".venv",
   "language": "python",
   "name": "python3"
  },
  "language_info": {
   "codemirror_mode": {
    "name": "ipython",
    "version": 3
   },
   "file_extension": ".py",
   "mimetype": "text/x-python",
   "name": "python",
   "nbconvert_exporter": "python",
   "pygments_lexer": "ipython3",
   "version": "3.9.13"
  }
 },
 "nbformat": 4,
 "nbformat_minor": 2
}
