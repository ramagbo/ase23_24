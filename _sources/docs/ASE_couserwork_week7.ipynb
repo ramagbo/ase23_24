{
 "cells": [
  {
   "cell_type": "markdown",
   "metadata": {},
   "source": [
    "# Week 7: Estimation"
   ]
  },
  {
   "cell_type": "markdown",
   "metadata": {},
   "source": [
    "## Estimation\n",
    "\n",
    "This week you'll learn the principles of deriving estimators, estimators of the mean and the standard deviation and their basic properties. \n",
    "\n",
    "\n",
    "### Reminder\n",
    "- An estimator $\\hat{\\alpha}$ is a random variable obtained from a particular sample\n",
    "    - e.g. The sample mean $\\hat{\\mu}$ in a binomial experiment\n",
    "\n",
    "\n",
    "\n",
    "- We derive the estimator $\\hat{\\alpha}$ in two ways:\n",
    "    - Method of moments\n",
    "    - Least Squares\n",
    "\n",
    "- Measures of central tendency:\n",
    "    - Mean: average of all number in a sample\n",
    "\n",
    "    - Mode: Most often appearing value in a distribution\n",
    "\n",
    "    - Median: Middle term in a sorted distribution. \n",
    "\n",
    "\n",
    "\n",
    "- relative position of measures for skewed data \n",
    "\n",
    "![central](../central.png)\n"
   ]
  },
  {
   "cell_type": "markdown",
   "metadata": {},
   "source": [
    "### Definitions\n",
    "\n",
    "Unbiasedness: \n",
    "- The Expected value of the estimator is equal to the true value of the parameter, \n",
    "    - for the mean: $\\mathop{\\mathbb{E}}(\\hat{\\mu})=\\mu$, \n",
    "    - for the variance: $\\mathop{\\mathbb{E}}({\\hat{\\sigma}^2})=\\sigma^2$ \n",
    "\n",
    "Standard Deviation (SD):\n",
    "- Measures the dispersion from the individual data values to the mean\n",
    "\n",
    "Standard Error (SE):\n",
    "- Measures how far the sample mean is likely to be from the true population mean.\n",
    "\n",
    "\n"
   ]
  },
  {
   "cell_type": "markdown",
   "metadata": {},
   "source": [
    "**Q16.**\n",
    "\n",
    "**Suppose you have a sample of data, $Y_i, \\quad i=1,2, \\cdot , N$ where $Y \\sim \\mathcal{IN}(\\mu,\\,\\sigma^{2})\\,.$"
   ]
  },
  {
   "cell_type": "markdown",
   "metadata": {},
   "source": [
    "`````{topic} (a) Explain what $Y \\sim \\mathcal{IN}(\\mu,\\,\\sigma^{2})\\,.$ means.\n",
    "\n",
    "The random variable $Y$ is independently normally distributed with expected value $(\\mu)$ and variance $(\\sigma^2)$,\n",
    "\n",
    "`````"
   ]
  },
  {
   "cell_type": "markdown",
   "metadata": {},
   "source": [
    "`````{topic} (b)  How would you obtain unbiased estimates of $\\mu$ and $\\sigma^2$? Explain what unbiased means. \n",
    "-   The unbiased estimator of $\\mu$ is:\n",
    "\n",
    "$$\n",
    "    \\hat{\\mu} = \\sum_{i=1}^N \\frac{Y_i}{N},\n",
    "$$\n",
    "\n",
    "-   The unbiased estimator of the $\\sigma^2$:\n",
    "\n",
    "$$\n",
    "   \\hat{\\sigma}^2 = \\sum_{i=1}^N \\frac{(Y_i - \\bar{Y})^2}{N-1},\n",
    "$$\n",
    "\n",
    "`````"
   ]
  },
  {
   "cell_type": "markdown",
   "metadata": {},
   "source": [
    "`````{topic} (c) How would you estimate the standard error of your estimate of $\\mu$ ?\n",
    "Recall from week 5 that we were asked to generate a $50 \\times 15$ matrix of random uniforms\n",
    "\n",
    "-   The estimated standard error of $\\hat{\\mu}$ can be estimated using the following:\n",
    "\n",
    "$$\n",
    "    SE(\\hat{Y}) = \\sqrt{ \\frac{s^2}{N}} = \\frac{s}{\\sqrt{N}}\n",
    "$$ \n",
    "\n",
    "`````"
   ]
  },
  {
   "cell_type": "markdown",
   "metadata": {},
   "source": [
    "`````{topic} (d) Suppose that the distribution of your sample was not normal but highly skewed. Explain what this means and discuss what other measures of central tendency that you might use. \n",
    " If the distribution is not symmetrical the mean, median and mode will diﬀer and you may want to use one of the others since the mean is sensitive to the outliers that may be associated with very skewed distributions.\n",
    "\n",
    "`````"
   ]
  },
  {
   "cell_type": "markdown",
   "metadata": {},
   "source": [
    "**Q17.** \n",
    "\n",
    "`````{topic} Marks on an exam, $Y_i \\sim \\mathcal{IN}(50,10^{2})$, are independently normally distributed with expected value 50 and standard deviation 10. In a class of 16, what is the probability that the average mark is greater than 53?\n",
    "\n",
    "-   The standard error of the average is $\\frac{10}{\\sqrt{16}} = 2.5$\n",
    "\n",
    "-   $Z = \\frac{(53-50)}{2.5} = 1.2$\n",
    "\n",
    "-   from tables $P(Z>1.2) = 0.1151$\n",
    "\n",
    "The probability of an average greater than 53 is 11.51%\n",
    "\n",
    "`````\n"
   ]
  },
  {
   "cell_type": "code",
   "execution_count": 1,
   "metadata": {},
   "outputs": [],
   "source": [
    "import pandas as pd\n",
    "import numpy as np\n",
    "import matplotlib.pyplot as plt\n",
    "\n",
    "# Generate the random matrix using Pandas DataFrame\n",
    "rows = 15\n",
    "columns = 50\n",
    "random_matrix = pd.DataFrame(np.random.uniform(0, 1, (rows, columns)))\n"
   ]
  },
  {
   "cell_type": "code",
   "execution_count": 3,
   "metadata": {},
   "outputs": [
    {
     "data": {
      "text/plain": [
       "0     0.897443\n",
       "1     0.136783\n",
       "2     0.676054\n",
       "3     0.442156\n",
       "4     0.484211\n",
       "5     0.835267\n",
       "6     0.324832\n",
       "7     0.583233\n",
       "8     0.812069\n",
       "9     0.541406\n",
       "10    0.973640\n",
       "11    0.562685\n",
       "12    0.117128\n",
       "13    0.845065\n",
       "14    0.054975\n",
       "15    0.397418\n",
       "16    0.133289\n",
       "17    0.426002\n",
       "18    0.162413\n",
       "19    0.560183\n",
       "20    0.800143\n",
       "21    0.956463\n",
       "22    0.702957\n",
       "23    0.081454\n",
       "24    0.545835\n",
       "25    0.306865\n",
       "26    0.931041\n",
       "27    0.116734\n",
       "28    0.044032\n",
       "29    0.031046\n",
       "30    0.285822\n",
       "31    0.368590\n",
       "32    0.245715\n",
       "33    0.851877\n",
       "34    0.381274\n",
       "35    0.220157\n",
       "36    0.836283\n",
       "37    0.684478\n",
       "38    0.327825\n",
       "39    0.727890\n",
       "40    0.055627\n",
       "41    0.894620\n",
       "42    0.728910\n",
       "43    0.921497\n",
       "44    0.452578\n",
       "45    0.568864\n",
       "46    0.185779\n",
       "47    0.971980\n",
       "48    0.569079\n",
       "49    0.084482\n",
       "Name: 0, dtype: float64"
      ]
     },
     "execution_count": 3,
     "metadata": {},
     "output_type": "execute_result"
    }
   ],
   "source": [
    "random_matrix.iloc[0,:]"
   ]
  },
  {
   "cell_type": "code",
   "execution_count": 2,
   "metadata": {},
   "outputs": [
    {
     "data": {
      "text/plain": [
       "0     0.551019\n",
       "1     0.570050\n",
       "2     0.527971\n",
       "3     0.523724\n",
       "4     0.610550\n",
       "5     0.586588\n",
       "6     0.489707\n",
       "7     0.661555\n",
       "8     0.476817\n",
       "9     0.370671\n",
       "10    0.485703\n",
       "11    0.511375\n",
       "12    0.513262\n",
       "13    0.507818\n",
       "14    0.284509\n",
       "15    0.373475\n",
       "16    0.537019\n",
       "17    0.625274\n",
       "18    0.493758\n",
       "19    0.444939\n",
       "20    0.498657\n",
       "21    0.447068\n",
       "22    0.558953\n",
       "23    0.512573\n",
       "24    0.467357\n",
       "25    0.466224\n",
       "26    0.401366\n",
       "27    0.463509\n",
       "28    0.446356\n",
       "29    0.363717\n",
       "30    0.515757\n",
       "31    0.513608\n",
       "32    0.457843\n",
       "33    0.536012\n",
       "34    0.474204\n",
       "35    0.408904\n",
       "36    0.534391\n",
       "37    0.560532\n",
       "38    0.438903\n",
       "39    0.642480\n",
       "40    0.471351\n",
       "41    0.566263\n",
       "42    0.567396\n",
       "43    0.549365\n",
       "44    0.406210\n",
       "45    0.433338\n",
       "46    0.552597\n",
       "47    0.551763\n",
       "48    0.490374\n",
       "49    0.479130\n",
       "dtype: float64"
      ]
     },
     "execution_count": 2,
     "metadata": {},
     "output_type": "execute_result"
    }
   ],
   "source": [
    "# Compute the means of the rows\n",
    "row_means = random_matrix.mean(axis=0)\n",
    "row_means"
   ]
  },
  {
   "cell_type": "code",
   "execution_count": 4,
   "metadata": {},
   "outputs": [
    {
     "data": {
      "text/plain": [
       "0     0.102154\n",
       "1     0.081637\n",
       "2     0.082269\n",
       "3     0.078033\n",
       "4     0.038020\n",
       "5     0.109770\n",
       "6     0.061527\n",
       "7     0.062156\n",
       "8     0.028212\n",
       "9     0.089125\n",
       "10    0.111703\n",
       "11    0.072542\n",
       "12    0.098429\n",
       "13    0.082870\n",
       "14    0.053761\n",
       "15    0.080756\n",
       "16    0.096767\n",
       "17    0.075762\n",
       "18    0.086519\n",
       "19    0.102341\n",
       "20    0.097425\n",
       "21    0.106944\n",
       "22    0.065200\n",
       "23    0.062813\n",
       "24    0.087628\n",
       "25    0.077733\n",
       "26    0.105893\n",
       "27    0.065116\n",
       "28    0.068401\n",
       "29    0.094905\n",
       "30    0.052174\n",
       "31    0.084267\n",
       "32    0.032814\n",
       "33    0.088372\n",
       "34    0.053556\n",
       "35    0.084009\n",
       "36    0.116613\n",
       "37    0.086017\n",
       "38    0.061684\n",
       "39    0.060121\n",
       "40    0.137334\n",
       "41    0.074953\n",
       "42    0.076441\n",
       "43    0.085291\n",
       "44    0.107163\n",
       "45    0.072596\n",
       "46    0.068619\n",
       "47    0.111103\n",
       "48    0.080504\n",
       "49    0.112671\n",
       "dtype: float64"
      ]
     },
     "execution_count": 4,
     "metadata": {},
     "output_type": "execute_result"
    }
   ],
   "source": [
    "\n",
    "\n",
    "variance = random_matrix.var(axis=0)\n",
    "variance"
   ]
  },
  {
   "cell_type": "code",
   "execution_count": 7,
   "metadata": {},
   "outputs": [
    {
     "data": {
      "text/plain": [
       "0.07409081838473781"
      ]
     },
     "execution_count": 7,
     "metadata": {},
     "output_type": "execute_result"
    }
   ],
   "source": [
    "# Standard deviation of the Mean\n",
    "std_dev = row_means.std() \n",
    "std_dev"
   ]
  },
  {
   "cell_type": "code",
   "execution_count": 8,
   "metadata": {},
   "outputs": [
    {
     "data": {
      "text/plain": [
       "0.010478024020701806"
      ]
     },
     "execution_count": 8,
     "metadata": {},
     "output_type": "execute_result"
    }
   ],
   "source": [
    "# Standard Error of the Mean\n",
    "std_err = row_means.std() / np.sqrt(columns)  \n",
    "std_err"
   ]
  }
 ],
 "metadata": {
  "kernelspec": {
   "display_name": ".venv",
   "language": "python",
   "name": "python3"
  },
  "language_info": {
   "codemirror_mode": {
    "name": "ipython",
    "version": 3
   },
   "file_extension": ".py",
   "mimetype": "text/x-python",
   "name": "python",
   "nbconvert_exporter": "python",
   "pygments_lexer": "ipython3",
   "version": "3.8.1"
  },
  "vscode": {
   "interpreter": {
    "hash": "2a4769af3b71159ddbe6dc04cfa25896712f9d08a10a8d2928723a8eabcf7a2e"
   }
  }
 },
 "nbformat": 4,
 "nbformat_minor": 2
}
