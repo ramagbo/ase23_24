{
 "cells": [
  {
   "cell_type": "markdown",
   "metadata": {},
   "source": [
    "# Week 6: Continuous Random Variables"
   ]
  },
  {
   "cell_type": "markdown",
   "metadata": {},
   "source": [
    "## Normal Distribution\n",
    "\n",
    "This week you'll be introduced to the concept of continuous random variable and study the properties of the Normal Distribution.\n",
    "\n",
    "The normal distribution is often referred to as $X \\sim \\mathcal{N}(\\mu,\\,\\sigma^{2})$. \n",
    "\n",
    "Thus when a random variable $X$ is distributed normally with mean $(\\mu)$ and variance $(\\sigma^2)$, one may write \n",
    "\n",
    "$$\n",
    "   X \\sim \\mathcal{N}(\\mu,\\,\\sigma^{2})\\,.\n",
    "$$\n",
    "\n",
    "\n",
    "### Reminder\n",
    "Shifting and scaling a distribution: see notes from week 2\n",
    "\n",
    "$$\n",
    "   w_i = a + b x_i\n",
    "$$\n",
    "\n",
    "*Z-score* \n",
    "\n",
    ": A z-score (or standard score) represents the number of standard deviations a given value $x$ falls from the mean, $\\mu$\n",
    "\n",
    "*Understanding Z-scores:*\n",
    "\n",
    ": Here's a good website, [Z-score summary](https://mathbitsnotebook.com/Algebra2/Statistics/STzScores.html)\n",
    "\n",
    "*Calculating Z-scores:*\n",
    "\n",
    "$$\n",
    "   z = \\frac{x - \\mu}{\\sigma}\n",
    "$$\n",
    "\n",
    "*Normal distribution:* \n",
    ":  Where you can get values for the normal distribution\n",
    "   -  Here's a good website: [normal distribution](https://www.mathsisfun.com/data/standard-normal-distribution-table.html)\n",
    "   -  Statistical tables\n",
    "   -  Spreadsheets\n",
    "\n",
    "![area](../area.png)"
   ]
  },
  {
   "cell_type": "markdown",
   "metadata": {},
   "source": [
    "\n",
    "**Q15.** \n",
    "\n",
    "**For this and subsequent questions you need to use values for the cumula­tive normal distribution which you can get from statistical tables ( e.g. the ones in Barrow) or from the web or a spreadsheet.** \n",
    "\n",
    "**Marks on an exam $x_i$ are distributed $\\mathcal{N}(60, 10^2 )$.**"
   ]
  },
  {
   "cell_type": "markdown",
   "metadata": {},
   "source": [
    "`````{topic} (a) Explain in words what is meant by $\\mathcal{N}(60, 10^2 )$, For a random variable $Z$. explain what is meant by $P(Z < z)$. \n",
    "\n",
    "From the definition above, we have it that exam marks are normally distributed with:\n",
    "\n",
    "- mean $(\\mu)$ = 60\n",
    "- variance $(\\sigma^2)$ = $10^2$\n",
    "    - Note: this translate to having a standard deviation std_dev $(\\sigma)$ = 10\n",
    "`````\n"
   ]
  },
  {
   "cell_type": "code",
   "execution_count": null,
   "metadata": {},
   "outputs": [],
   "source": [
    "from scipy.stats import norm\n",
    "\n",
    "# Generate random data from a normal distribution\n",
    "mean = 60\n",
    "std_dev = 10"
   ]
  },
  {
   "cell_type": "markdown",
   "metadata": {},
   "source": [
    "`````{topic} (b)  What proportion of the students get\n",
    "(i)\tless than 40;\n",
    "\n",
    "- Method 1: \n",
    "    - Calculate z-score\n",
    "    $Z_{40}$ = $\\frac{40-60}{10} = -2;$\n",
    "    $P(X<40) = P(Z<-2) = 0.0228$\n",
    "\n",
    "- Method 2: \n",
    "    - Reading values off the table above once the z-score is calculated:\n",
    "    $P(Z<-2) \\approx 2.3\\%$\n",
    "\n",
    "`````\n",
    "![less40](../less40.png)"
   ]
  },
  {
   "cell_type": "code",
   "execution_count": 33,
   "metadata": {},
   "outputs": [
    {
     "data": {
      "text/plain": [
       "0.0227501319481792"
      ]
     },
     "execution_count": 33,
     "metadata": {},
     "output_type": "execute_result"
    }
   ],
   "source": [
    "# Python implemtation\n",
    "\n",
    "P_X_40 = norm.cdf(40, mean, std_dev)\n",
    "P_X_40"
   ]
  },
  {
   "cell_type": "markdown",
   "metadata": {},
   "source": [
    "`````{topic} (ii)\tbetween 40 and 50;\n",
    "- Method 1: \n",
    "    - Calculate z-score\n",
    "\n",
    "    $Z_{50} = \\frac{50-60}{10} = -1; \\quad P(Z<-1) = 0.1587,$\n",
    "    \n",
    "     $so \\quad P(40<X<50) = P(-2<Z<-1) = 0.1587-0.0228 =0.1359$\n",
    "\n",
    "- Method 2: \n",
    "    - Reading values off the table above once the z-score is calculated: \n",
    "    \n",
    "    $P(-2<Z<-1) \\approx 13.6\\%$\n",
    "\n",
    "`````\n",
    "![4and5](../4and5.png)"
   ]
  },
  {
   "cell_type": "code",
   "execution_count": 34,
   "metadata": {},
   "outputs": [
    {
     "data": {
      "text/plain": [
       "0.13590512198327787"
      ]
     },
     "execution_count": 34,
     "metadata": {},
     "output_type": "execute_result"
    }
   ],
   "source": [
    "# Python implemtation\n",
    "\n",
    "P_X_50_40 = norm.cdf(50, mean, std_dev) - norm.cdf(40, mean, std_dev)\n",
    "P_X_50_40"
   ]
  },
  {
   "cell_type": "markdown",
   "metadata": {},
   "source": [
    "`````{topic} (iii)\tbetween 50 and 60\n",
    "\n",
    "- Method 1: \n",
    "    - Calculate z-score\n",
    "    $Z_{60} = \\frac{60-60}{10} = 0; \\quad P(Z<0) = 0.50,$ \n",
    "\n",
    "    $so \\quad P(50<X<60) = P(-1<Z<0) = 0.5 - 0.1587=0.3413$\n",
    "\n",
    "- Method 2: \n",
    "    - Reading values off the table above once the z-score is calculated: \n",
    "    \n",
    "    $P(-1<Z<0) \\approx 34.1\\%$\n",
    "\n",
    "`````\n",
    "![5and6](../5and6.png)"
   ]
  },
  {
   "cell_type": "code",
   "execution_count": 35,
   "metadata": {},
   "outputs": [
    {
     "data": {
      "text/plain": [
       "0.3413447460685429"
      ]
     },
     "execution_count": 35,
     "metadata": {},
     "output_type": "execute_result"
    }
   ],
   "source": [
    "# Python implemtation\n",
    "\n",
    "P_X_60_50 = norm.cdf(60, mean, std_dev) - norm.cdf(50, mean, std_dev)\n",
    "P_X_60_50"
   ]
  },
  {
   "cell_type": "markdown",
   "metadata": {
    "vscode": {
     "languageId": "plaintext"
    }
   },
   "source": [
    "`````{topic} (iv)\tbetween 60 and 70\n",
    "- Method 1: \n",
    "    - Calculate z-score\n",
    "    $Z_{70} = \\frac{70-60}{10} = 1; \\quad P(Z<1) = 0.8413,$ \n",
    "    \n",
    "    $so \\quad P(60<X<70) = P(0<Z<1) = 0.8413 - 0.5 = 0.3413$\n",
    "\n",
    "- Method 2: \n",
    "    - Reading values off the table above once the z-score is calculated: \n",
    "    \n",
    "    $P(0<z<1) \\approx 34.1\\%$\n",
    "`````\n",
    "![6and7](../6and7.png)\n"
   ]
  },
  {
   "cell_type": "code",
   "execution_count": 32,
   "metadata": {},
   "outputs": [
    {
     "data": {
      "text/plain": [
       "0.3413447460685429"
      ]
     },
     "execution_count": 32,
     "metadata": {},
     "output_type": "execute_result"
    }
   ],
   "source": [
    "# Python implemtation\n",
    "\n",
    "P_X_70_60 = norm.cdf(70, mean, std_dev) - norm.cdf(60, mean, std_dev)\n",
    "P_X_70_60"
   ]
  },
  {
   "cell_type": "markdown",
   "metadata": {},
   "source": [
    "`````{topic} ( v)\tbetween 70 and 80\n",
    "- Method 1: \n",
    "    - Calculate z-score\n",
    "    $Z_{80} = \\frac{80-60}{10} = 2; \\quad P(Z<2) = 0.9772,$ \n",
    "\n",
    "    $so \\quad  P(70<X<80) = P(1<Z<2) = 0.9772 -  0.8413 = 0.1359$\n",
    "\n",
    "- Method 2: \n",
    "    - Reading values off the table above once the z-score is calculated: \n",
    "    \n",
    "        $P(1<z<2) \\approx 13.6\\%$\n",
    "\n",
    "`````\n",
    "![7and8](../7and8.png)"
   ]
  },
  {
   "cell_type": "code",
   "execution_count": 29,
   "metadata": {},
   "outputs": [
    {
     "data": {
      "text/plain": [
       "0.12408281089178619"
      ]
     },
     "execution_count": 29,
     "metadata": {},
     "output_type": "execute_result"
    }
   ],
   "source": [
    "# Python implemtation\n",
    "\n",
    "P_X_80_70 = norm.cdf(80, mean, std_dev) - norm.cdf(70, mean, std_dev)\n",
    "P_X_80_70"
   ]
  },
  {
   "cell_type": "markdown",
   "metadata": {},
   "source": [
    "\n",
    "`````{topic} (vi)\t80 and over.\n",
    "\n",
    "- Method 1: \n",
    "    - Calculate z-score\n",
    "    P(Z>2) = 1 - P(Z<2) = 1 - 0.9772 = 0.0228$\n",
    "\n",
    "- Method 2: \n",
    "    - Reading values off the table above once the z-score is calculated:\n",
    "    \n",
    "        $P(Z>2) \\approx 2.3\\%$\n",
    "\n",
    "`````\n",
    "![great80](../great80.png)"
   ]
  },
  {
   "cell_type": "code",
   "execution_count": 31,
   "metadata": {},
   "outputs": [
    {
     "data": {
      "text/plain": [
       "0.02275013194817921"
      ]
     },
     "execution_count": 31,
     "metadata": {},
     "output_type": "execute_result"
    }
   ],
   "source": [
    "# Python implemtation\n",
    "\n",
    "P_X_80 = 1 - norm.cdf(80, mean, std_dev)\n",
    "P_X_80"
   ]
  },
  {
   "cell_type": "markdown",
   "metadata": {},
   "source": [
    "`````{topic}  (c) What mark does a student need to get into the top 10%\n",
    "Here remember that $z = \\frac{x - \\mu}{\\sigma}$ so that $x = \\mu + z \\times \\sigma$\n",
    "\n",
    "$P(Z>z) = 0.1$ for $z \\approx 1.28$ so that \n",
    "\n",
    "$X = 60 + 1.28*10 \\approx 72.8$\n",
    "\n",
    "`````"
   ]
  },
  {
   "cell_type": "code",
   "execution_count": 36,
   "metadata": {},
   "outputs": [
    {
     "data": {
      "text/plain": [
       "72.815515655446"
      ]
     },
     "execution_count": 36,
     "metadata": {},
     "output_type": "execute_result"
    }
   ],
   "source": [
    "# Python implementation\n",
    "\n",
    "X_10 = norm.ppf(0.9, mean, std_dev)\n",
    "X_10"
   ]
  },
  {
   "cell_type": "code",
   "execution_count": 9,
   "metadata": {},
   "outputs": [
    {
     "data": {
      "image/png": "[encoded data removed]",
      "text/plain": [
       "<Figure size 432x288 with 1 Axes>"
      ]
     },
     "metadata": {
      "needs_background": "light"
     },
     "output_type": "display_data"
    }
   ],
   "source": [
    "import numpy as np\n",
    "import matplotlib.pyplot as plt\n",
    "from scipy.stats import norm\n",
    "\n",
    "# Generate random data from a normal distribution\n",
    "mean = 60\n",
    "std_dev = 10\n",
    "data = np.random.normal(mean, std_dev, size=(15, 50))\n",
    "\n",
    "# Flatten the data to a 1D array\n",
    "data = data.flatten()\n",
    "\n",
    "# Create a histogram\n",
    "# plt.hist(data, bins=20, density=True, alpha=0.5, color='b', label='Histogram')\n",
    "\n",
    "# Fit a normal distribution to the data\n",
    "mu, std = norm.fit(data)\n",
    "\n",
    "# Plot the PDF of the fitted normal distribution\n",
    "xmin, xmax = min(data), max(data)\n",
    "x = np.linspace(xmin, xmax, 100)\n",
    "p = norm.pdf(x, mu, std)\n",
    "plt.plot(x, p, 'k', linewidth=2, label='Fitted Normal')\n",
    "\n",
    "# Plot the area one standard deviation above the mean\n",
    "x_std_above = mu + 2*std\n",
    "plt.fill_between(x, 0, p, where=(x > x_std_above), color='g', alpha=0.3, label='> 80')\n",
    "\n",
    "# plt.title(\"Histogram, Fitted Normal Distribution, and 1 Std Dev Above Mean\")\n",
    "plt.xlabel(\"Value\")\n",
    "plt.ylabel(\"Frequency\")\n",
    "plt.legend()\n",
    "plt.show()\n"
   ]
  },
  {
   "cell_type": "code",
   "execution_count": 13,
   "metadata": {},
   "outputs": [
    {
     "data": {
      "image/png": "[encoded data removed]",
      "text/plain": [
       "<Figure size 432x288 with 1 Axes>"
      ]
     },
     "metadata": {
      "needs_background": "light"
     },
     "output_type": "display_data"
    }
   ],
   "source": [
    "import numpy as np\n",
    "import matplotlib.pyplot as plt\n",
    "from scipy.stats import norm\n",
    "\n",
    "# Generate random data from a normal distribution\n",
    "mean = 60\n",
    "std_dev = 10\n",
    "data = np.random.normal(mean, std_dev, size=(15, 50))\n",
    "\n",
    "# Flatten the data to a 1D array\n",
    "data = data.flatten()\n",
    "\n",
    "# Create a histogram\n",
    "# plt.hist(data, bins=20, density=True, alpha=0.5, color='b', label='Histogram')\n",
    "\n",
    "# Fit a normal distribution to the data\n",
    "mu, std = norm.fit(data)\n",
    "\n",
    "# Plot the PDF of the fitted normal distribution\n",
    "xmin, xmax = min(data), max(data)\n",
    "x = np.linspace(xmin, xmax, 100)\n",
    "p = norm.pdf(x, mu, std)\n",
    "plt.plot(x, p, 'k', linewidth=2, label='Fitted Normal')\n",
    "\n",
    "# Plot the area between 40 and 50\n",
    "x_min = 50\n",
    "x_max = 60\n",
    "plt.fill_between(x, 0, p, where=(x >= x_min) & (x <= x_max), color='g', alpha=0.3, label='Between 50 and 60')\n",
    "\n",
    "# plt.title(\"Histogram, Fitted Normal Distribution, and Area Between 40 and 50\")\n",
    "plt.xlabel(\"Value\")\n",
    "plt.ylabel(\"Frequency\")\n",
    "plt.legend()\n",
    "plt.show()"
   ]
  },
  {
   "cell_type": "code",
   "execution_count": 19,
   "metadata": {},
   "outputs": [
    {
     "data": {
      "text/plain": [
       "72.563396178446"
      ]
     },
     "execution_count": 19,
     "metadata": {},
     "output_type": "execute_result"
    }
   ],
   "source": [
    "norm.ppf(0.9, mu, std)"
   ]
  }
 ],
 "metadata": {
  "kernelspec": {
   "display_name": ".venv",
   "language": "python",
   "name": "python3"
  },
  "language_info": {
   "codemirror_mode": {
    "name": "ipython",
    "version": 3
   },
   "file_extension": ".py",
   "mimetype": "text/x-python",
   "name": "python",
   "nbconvert_exporter": "python",
   "pygments_lexer": "ipython3",
   "version": "3.8.1"
  }
 },
 "nbformat": 4,
 "nbformat_minor": 2
}
